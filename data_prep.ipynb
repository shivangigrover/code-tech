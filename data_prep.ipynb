{
 "cells": [
  {
   "cell_type": "code",
   "execution_count": 1,
   "metadata": {},
   "outputs": [],
   "source": [
    "import pandas as pd\n",
    "from dateutil.relativedelta import relativedelta\n",
    "from datetime import datetime, timedelta\n",
    "from ydata_profiling import ProfileReport\n",
    "import matplotlib.pyplot as plt\n",
    "import seaborn as sns\n",
    "import plotly.express as px\n",
    "from sklearn.preprocessing import RobustScaler\n",
    "from scipy.stats import boxcox\n",
    "from scipy.stats import skew\n",
    "import numpy as np"
   ]
  },
  {
   "cell_type": "code",
   "execution_count": 2,
   "metadata": {},
   "outputs": [],
   "source": [
    "# Load the dataset\n",
    "file_path = 'Interview Analysis Molecule.tsv'\n",
    "data = pd.read_csv(file_path, sep='\\t')  # Adjust separator if necessary\n",
    "\n",
    "# Display the first few rows of the dataframe to understand its structure\n",
    "#print(df.head())"
   ]
  },
  {
   "cell_type": "markdown",
   "metadata": {},
   "source": [
    "Key Assumptions:\n",
    "\n",
    "- Date data is correct due to timestamps. \n",
    "- Total Duration is the difference between start date and end date extension.\n",
    "- Quantity total (quantity_total) is correct\n",
    "- Quantity annual (quantity_annual) is Quantity total/Duration (duration) * 12. *(Duration generally provides a closer approximation to the original quantity_annual data in the dataset.)*"
   ]
  },
  {
   "cell_type": "markdown",
   "metadata": {},
   "source": [
    "**Data Cleaning**"
   ]
  },
  {
   "cell_type": "markdown",
   "metadata": {},
   "source": [
    "*Pivot participants and participants_price into Separate Columns*"
   ]
  },
  {
   "cell_type": "code",
   "execution_count": 3,
   "metadata": {},
   "outputs": [
    {
     "data": {
      "text/html": [
       "<div>\n",
       "<style scoped>\n",
       "    .dataframe tbody tr th:only-of-type {\n",
       "        vertical-align: middle;\n",
       "    }\n",
       "\n",
       "    .dataframe tbody tr th {\n",
       "        vertical-align: top;\n",
       "    }\n",
       "\n",
       "    .dataframe thead th {\n",
       "        text-align: right;\n",
       "    }\n",
       "</style>\n",
       "<table border=\"1\" class=\"dataframe\">\n",
       "  <thead>\n",
       "    <tr style=\"text-align: right;\">\n",
       "      <th></th>\n",
       "      <th>active_ingredient</th>\n",
       "      <th>atc</th>\n",
       "      <th>buyer</th>\n",
       "      <th>contract_id</th>\n",
       "      <th>contract_type</th>\n",
       "      <th>duration</th>\n",
       "      <th>duration_extension</th>\n",
       "      <th>end_date_extension</th>\n",
       "      <th>maximum_price_allowed</th>\n",
       "      <th>outcome</th>\n",
       "      <th>...</th>\n",
       "      <th>quantity_annual</th>\n",
       "      <th>quantity_total</th>\n",
       "      <th>region</th>\n",
       "      <th>second_place</th>\n",
       "      <th>second_place_outcome</th>\n",
       "      <th>second_place_price</th>\n",
       "      <th>sku</th>\n",
       "      <th>start_date</th>\n",
       "      <th>winner</th>\n",
       "      <th>winner_price</th>\n",
       "    </tr>\n",
       "  </thead>\n",
       "  <tbody>\n",
       "    <tr>\n",
       "      <th>0</th>\n",
       "      <td>molecule_x</td>\n",
       "      <td>C07AB07</td>\n",
       "      <td>buyer_1</td>\n",
       "      <td>1</td>\n",
       "      <td>regional</td>\n",
       "      <td>39</td>\n",
       "      <td>10</td>\n",
       "      <td>2017-06-30</td>\n",
       "      <td>0.10000</td>\n",
       "      <td>won</td>\n",
       "      <td>...</td>\n",
       "      <td>9860</td>\n",
       "      <td>32966.511085</td>\n",
       "      <td>region_1</td>\n",
       "      <td>NaN</td>\n",
       "      <td>NaN</td>\n",
       "      <td>NaN</td>\n",
       "      <td>molecule_x_10mg_tablet</td>\n",
       "      <td>2013-05-24</td>\n",
       "      <td>participants_16</td>\n",
       "      <td>0.00040</td>\n",
       "    </tr>\n",
       "    <tr>\n",
       "      <th>1</th>\n",
       "      <td>molecule_x</td>\n",
       "      <td>C07AB07</td>\n",
       "      <td>buyer_2</td>\n",
       "      <td>2</td>\n",
       "      <td>wide area</td>\n",
       "      <td>48</td>\n",
       "      <td>0</td>\n",
       "      <td>2017-06-30</td>\n",
       "      <td>63442.21000</td>\n",
       "      <td>won</td>\n",
       "      <td>...</td>\n",
       "      <td>54988</td>\n",
       "      <td>220249.442660</td>\n",
       "      <td>region_2</td>\n",
       "      <td>NaN</td>\n",
       "      <td>NaN</td>\n",
       "      <td>NaN</td>\n",
       "      <td>molecule_x_10mg_tablet</td>\n",
       "      <td>2013-06-21</td>\n",
       "      <td>participants_16</td>\n",
       "      <td>0.00700</td>\n",
       "    </tr>\n",
       "    <tr>\n",
       "      <th>2</th>\n",
       "      <td>molecule_x</td>\n",
       "      <td>C07AB07</td>\n",
       "      <td>buyer_3</td>\n",
       "      <td>3</td>\n",
       "      <td>regional</td>\n",
       "      <td>12</td>\n",
       "      <td>6</td>\n",
       "      <td>2016-02-14</td>\n",
       "      <td>0.11635</td>\n",
       "      <td>won</td>\n",
       "      <td>...</td>\n",
       "      <td>1904</td>\n",
       "      <td>2680.639219</td>\n",
       "      <td>region_3</td>\n",
       "      <td>participants_23</td>\n",
       "      <td>lost</td>\n",
       "      <td>0.07071</td>\n",
       "      <td>molecule_x_10mg_tablet</td>\n",
       "      <td>2014-08-14</td>\n",
       "      <td>participants_16</td>\n",
       "      <td>0.01400</td>\n",
       "    </tr>\n",
       "    <tr>\n",
       "      <th>3</th>\n",
       "      <td>molecule_x</td>\n",
       "      <td>C07AB07</td>\n",
       "      <td>buyer_4</td>\n",
       "      <td>4</td>\n",
       "      <td>regional</td>\n",
       "      <td>36</td>\n",
       "      <td>19</td>\n",
       "      <td>2017-12-31</td>\n",
       "      <td>0.03000</td>\n",
       "      <td>won</td>\n",
       "      <td>...</td>\n",
       "      <td>1652</td>\n",
       "      <td>5900.676494</td>\n",
       "      <td>region_4</td>\n",
       "      <td>NaN</td>\n",
       "      <td>NaN</td>\n",
       "      <td>NaN</td>\n",
       "      <td>molecule_x_10mg_tablet</td>\n",
       "      <td>2013-05-17</td>\n",
       "      <td>participants_16</td>\n",
       "      <td>0.02500</td>\n",
       "    </tr>\n",
       "    <tr>\n",
       "      <th>4</th>\n",
       "      <td>molecule_x</td>\n",
       "      <td>C07AB07</td>\n",
       "      <td>buyer_5</td>\n",
       "      <td>5</td>\n",
       "      <td>regional</td>\n",
       "      <td>36</td>\n",
       "      <td>6</td>\n",
       "      <td>2017-06-30</td>\n",
       "      <td>0.00010</td>\n",
       "      <td>won</td>\n",
       "      <td>...</td>\n",
       "      <td>1000</td>\n",
       "      <td>3289.223410</td>\n",
       "      <td>region_5</td>\n",
       "      <td>NaN</td>\n",
       "      <td>NaN</td>\n",
       "      <td>NaN</td>\n",
       "      <td>molecule_x_10mg_tablet</td>\n",
       "      <td>2013-12-17</td>\n",
       "      <td>participants_16</td>\n",
       "      <td>0.00001</td>\n",
       "    </tr>\n",
       "  </tbody>\n",
       "</table>\n",
       "<p>5 rows × 33 columns</p>\n",
       "</div>"
      ],
      "text/plain": [
       "  active_ingredient      atc    buyer  contract_id contract_type  duration  \\\n",
       "0        molecule_x  C07AB07  buyer_1            1      regional        39   \n",
       "1        molecule_x  C07AB07  buyer_2            2     wide area        48   \n",
       "2        molecule_x  C07AB07  buyer_3            3      regional        12   \n",
       "3        molecule_x  C07AB07  buyer_4            4      regional        36   \n",
       "4        molecule_x  C07AB07  buyer_5            5      regional        36   \n",
       "\n",
       "   duration_extension end_date_extension  maximum_price_allowed outcome  ...  \\\n",
       "0                  10         2017-06-30                0.10000     won  ...   \n",
       "1                   0         2017-06-30            63442.21000     won  ...   \n",
       "2                   6         2016-02-14                0.11635     won  ...   \n",
       "3                  19         2017-12-31                0.03000     won  ...   \n",
       "4                   6         2017-06-30                0.00010     won  ...   \n",
       "\n",
       "  quantity_annual  quantity_total    region     second_place  \\\n",
       "0            9860    32966.511085  region_1              NaN   \n",
       "1           54988   220249.442660  region_2              NaN   \n",
       "2            1904     2680.639219  region_3  participants_23   \n",
       "3            1652     5900.676494  region_4              NaN   \n",
       "4            1000     3289.223410  region_5              NaN   \n",
       "\n",
       "   second_place_outcome  second_place_price                     sku  \\\n",
       "0                   NaN                 NaN  molecule_x_10mg_tablet   \n",
       "1                   NaN                 NaN  molecule_x_10mg_tablet   \n",
       "2                  lost             0.07071  molecule_x_10mg_tablet   \n",
       "3                   NaN                 NaN  molecule_x_10mg_tablet   \n",
       "4                   NaN                 NaN  molecule_x_10mg_tablet   \n",
       "\n",
       "   start_date           winner  winner_price  \n",
       "0  2013-05-24  participants_16       0.00040  \n",
       "1  2013-06-21  participants_16       0.00700  \n",
       "2  2014-08-14  participants_16       0.01400  \n",
       "3  2013-05-17  participants_16       0.02500  \n",
       "4  2013-12-17  participants_16       0.00001  \n",
       "\n",
       "[5 rows x 33 columns]"
      ]
     },
     "execution_count": 3,
     "metadata": {},
     "output_type": "execute_result"
    }
   ],
   "source": [
    "# Create a new DataFrame to avoid altering the original while experimenting\n",
    "transformed_df = data.copy()\n",
    "\n",
    "# Function to create columns for each participant\n",
    "def expand_participants(row):\n",
    "    participants = str(row['participants']).split('|')\n",
    "    prices = str(row['participants_price']).split('|')\n",
    "    for participant, price in zip(participants, prices):\n",
    "        row[f'price_{participant}'] = float(price)\n",
    "    return row\n",
    "\n",
    "# Apply the function\n",
    "transformed_df = transformed_df.apply(expand_participants, axis=1)\n",
    "\n",
    "# Drop the original participants columns as they're now redundant\n",
    "transformed_df.drop(['participants', 'participants_price'], axis=1, inplace=True)\n",
    "\n",
    "# Show the transformed DataFrame structure\n",
    "transformed_df.head()\n"
   ]
  },
  {
   "cell_type": "code",
   "execution_count": 4,
   "metadata": {},
   "outputs": [],
   "source": [
    "df = transformed_df.copy()"
   ]
  },
  {
   "cell_type": "code",
   "execution_count": 5,
   "metadata": {},
   "outputs": [],
   "source": [
    "# Convert 'start_date' and 'end_date_extension' to datetime format\n",
    "df['start_date'] = pd.to_datetime(df['start_date'])\n",
    "df['end_date_extension'] = pd.to_datetime(df['end_date_extension'])\n"
   ]
  },
  {
   "cell_type": "code",
   "execution_count": 6,
   "metadata": {},
   "outputs": [],
   "source": [
    "## New columns\n",
    "\n",
    "# Calculate the difference in months\n",
    "df['duration_total_new'] = df['end_date_extension'] - df['start_date']\n",
    "df['duration_total_new'] = df['duration_total_new'] / pd.Timedelta(days=1) / 30.417\n",
    "\n",
    "# Convert duration_total to whole numbers by rounding\n",
    "df['duration_total_new'] = df['duration_total_new'].round(0)\n",
    "\n",
    "# Quantity per month\n",
    "df['quantity_monthly'] = df['quantity_total']/df['duration']\n",
    "df['quantity_monthly'] = df['quantity_monthly'].round(0)\n",
    "\n",
    "# New yearly quantity\n",
    "df['quantity_yearly'] = df['quantity_monthly']*12\n",
    "\n",
    "# Quantity including extension\n",
    "df['quantity_ext'] = df['quantity_monthly']*df['duration_total_new']\n",
    "\n",
    "# New duration extension \n",
    "df['duration_ext'] = df['duration_total_new'] - df['duration']\n",
    "\n",
    "# Calculate end_date based on start_date and duration\n",
    "df['end_date'] = df.apply(lambda row: row['start_date'] + pd.DateOffset(months=row['duration']), axis=1)"
   ]
  },
  {
   "cell_type": "code",
   "execution_count": 7,
   "metadata": {},
   "outputs": [],
   "source": [
    "#df[['duration_total_new', 'quantity_monthly', 'quantity_ext']] \n"
   ]
  },
  {
   "cell_type": "markdown",
   "metadata": {},
   "source": [
    "**Reassessing Maximum Price Allowed:**\n",
    "The `maximum_price_allowed` seems to be inconsistently aligned with the actual bid prices. In cases where it is extremely high, it might not serve as a practical or meaningful cap on bids. It would be sensible to create a **new** `maximum_price_allowed` to reflect the highest bid.\n",
    "\n",
    "**Data Correction Strategy:**\n",
    "- For Single Bidders: Align `maximum_price_allowed` with `winner_price` if only one bid is present.\n",
    "- For Multiple Bidders: Set `maximum_price_allowed` to the highest bid received among all participants. This approach would ensure that the maximum price is both competitive and reflective of the bidding landscape for each contract.\n"
   ]
  },
  {
   "cell_type": "code",
   "execution_count": 9,
   "metadata": {},
   "outputs": [
    {
     "data": {
      "text/html": [
       "<div>\n",
       "<style scoped>\n",
       "    .dataframe tbody tr th:only-of-type {\n",
       "        vertical-align: middle;\n",
       "    }\n",
       "\n",
       "    .dataframe tbody tr th {\n",
       "        vertical-align: top;\n",
       "    }\n",
       "\n",
       "    .dataframe thead th {\n",
       "        text-align: right;\n",
       "    }\n",
       "</style>\n",
       "<table border=\"1\" class=\"dataframe\">\n",
       "  <thead>\n",
       "    <tr style=\"text-align: right;\">\n",
       "      <th></th>\n",
       "      <th>active_ingredient</th>\n",
       "      <th>atc</th>\n",
       "      <th>buyer</th>\n",
       "      <th>contract_id</th>\n",
       "      <th>contract_type</th>\n",
       "      <th>duration</th>\n",
       "      <th>duration_extension</th>\n",
       "      <th>end_date_extension</th>\n",
       "      <th>maximum_price_allowed</th>\n",
       "      <th>outcome</th>\n",
       "      <th>...</th>\n",
       "      <th>winner</th>\n",
       "      <th>winner_price</th>\n",
       "      <th>duration_total_new</th>\n",
       "      <th>quantity_monthly</th>\n",
       "      <th>quantity_yearly</th>\n",
       "      <th>quantity_ext</th>\n",
       "      <th>duration_ext</th>\n",
       "      <th>end_date</th>\n",
       "      <th>highest_bid</th>\n",
       "      <th>maximum_price_allowed_new</th>\n",
       "    </tr>\n",
       "  </thead>\n",
       "  <tbody>\n",
       "    <tr>\n",
       "      <th>0</th>\n",
       "      <td>molecule_x</td>\n",
       "      <td>C07AB07</td>\n",
       "      <td>buyer_1</td>\n",
       "      <td>1</td>\n",
       "      <td>regional</td>\n",
       "      <td>39</td>\n",
       "      <td>10</td>\n",
       "      <td>2017-06-30</td>\n",
       "      <td>0.10000</td>\n",
       "      <td>won</td>\n",
       "      <td>...</td>\n",
       "      <td>participants_16</td>\n",
       "      <td>0.00040</td>\n",
       "      <td>49.0</td>\n",
       "      <td>845.0</td>\n",
       "      <td>10140.0</td>\n",
       "      <td>41405.0</td>\n",
       "      <td>10.0</td>\n",
       "      <td>2016-08-24</td>\n",
       "      <td>0.00040</td>\n",
       "      <td>0.00040</td>\n",
       "    </tr>\n",
       "    <tr>\n",
       "      <th>1</th>\n",
       "      <td>molecule_x</td>\n",
       "      <td>C07AB07</td>\n",
       "      <td>buyer_2</td>\n",
       "      <td>2</td>\n",
       "      <td>wide area</td>\n",
       "      <td>48</td>\n",
       "      <td>0</td>\n",
       "      <td>2017-06-30</td>\n",
       "      <td>63442.21000</td>\n",
       "      <td>won</td>\n",
       "      <td>...</td>\n",
       "      <td>participants_16</td>\n",
       "      <td>0.00700</td>\n",
       "      <td>48.0</td>\n",
       "      <td>4589.0</td>\n",
       "      <td>55068.0</td>\n",
       "      <td>220272.0</td>\n",
       "      <td>0.0</td>\n",
       "      <td>2017-06-21</td>\n",
       "      <td>0.00700</td>\n",
       "      <td>0.00700</td>\n",
       "    </tr>\n",
       "    <tr>\n",
       "      <th>2</th>\n",
       "      <td>molecule_x</td>\n",
       "      <td>C07AB07</td>\n",
       "      <td>buyer_3</td>\n",
       "      <td>3</td>\n",
       "      <td>regional</td>\n",
       "      <td>12</td>\n",
       "      <td>6</td>\n",
       "      <td>2016-02-14</td>\n",
       "      <td>0.11635</td>\n",
       "      <td>won</td>\n",
       "      <td>...</td>\n",
       "      <td>participants_16</td>\n",
       "      <td>0.01400</td>\n",
       "      <td>18.0</td>\n",
       "      <td>223.0</td>\n",
       "      <td>2676.0</td>\n",
       "      <td>4014.0</td>\n",
       "      <td>6.0</td>\n",
       "      <td>2015-08-14</td>\n",
       "      <td>0.07071</td>\n",
       "      <td>0.07071</td>\n",
       "    </tr>\n",
       "    <tr>\n",
       "      <th>3</th>\n",
       "      <td>molecule_x</td>\n",
       "      <td>C07AB07</td>\n",
       "      <td>buyer_4</td>\n",
       "      <td>4</td>\n",
       "      <td>regional</td>\n",
       "      <td>36</td>\n",
       "      <td>19</td>\n",
       "      <td>2017-12-31</td>\n",
       "      <td>0.03000</td>\n",
       "      <td>won</td>\n",
       "      <td>...</td>\n",
       "      <td>participants_16</td>\n",
       "      <td>0.02500</td>\n",
       "      <td>56.0</td>\n",
       "      <td>164.0</td>\n",
       "      <td>1968.0</td>\n",
       "      <td>9184.0</td>\n",
       "      <td>20.0</td>\n",
       "      <td>2016-05-17</td>\n",
       "      <td>0.02500</td>\n",
       "      <td>0.02500</td>\n",
       "    </tr>\n",
       "    <tr>\n",
       "      <th>4</th>\n",
       "      <td>molecule_x</td>\n",
       "      <td>C07AB07</td>\n",
       "      <td>buyer_5</td>\n",
       "      <td>5</td>\n",
       "      <td>regional</td>\n",
       "      <td>36</td>\n",
       "      <td>6</td>\n",
       "      <td>2017-06-30</td>\n",
       "      <td>0.00010</td>\n",
       "      <td>won</td>\n",
       "      <td>...</td>\n",
       "      <td>participants_16</td>\n",
       "      <td>0.00001</td>\n",
       "      <td>42.0</td>\n",
       "      <td>91.0</td>\n",
       "      <td>1092.0</td>\n",
       "      <td>3822.0</td>\n",
       "      <td>6.0</td>\n",
       "      <td>2016-12-17</td>\n",
       "      <td>0.00001</td>\n",
       "      <td>0.00001</td>\n",
       "    </tr>\n",
       "  </tbody>\n",
       "</table>\n",
       "<p>5 rows × 41 columns</p>\n",
       "</div>"
      ],
      "text/plain": [
       "  active_ingredient      atc    buyer  contract_id contract_type  duration  \\\n",
       "0        molecule_x  C07AB07  buyer_1            1      regional        39   \n",
       "1        molecule_x  C07AB07  buyer_2            2     wide area        48   \n",
       "2        molecule_x  C07AB07  buyer_3            3      regional        12   \n",
       "3        molecule_x  C07AB07  buyer_4            4      regional        36   \n",
       "4        molecule_x  C07AB07  buyer_5            5      regional        36   \n",
       "\n",
       "   duration_extension end_date_extension  maximum_price_allowed outcome  ...  \\\n",
       "0                  10         2017-06-30                0.10000     won  ...   \n",
       "1                   0         2017-06-30            63442.21000     won  ...   \n",
       "2                   6         2016-02-14                0.11635     won  ...   \n",
       "3                  19         2017-12-31                0.03000     won  ...   \n",
       "4                   6         2017-06-30                0.00010     won  ...   \n",
       "\n",
       "            winner  winner_price  duration_total_new  quantity_monthly  \\\n",
       "0  participants_16       0.00040                49.0             845.0   \n",
       "1  participants_16       0.00700                48.0            4589.0   \n",
       "2  participants_16       0.01400                18.0             223.0   \n",
       "3  participants_16       0.02500                56.0             164.0   \n",
       "4  participants_16       0.00001                42.0              91.0   \n",
       "\n",
       "   quantity_yearly  quantity_ext  duration_ext   end_date  highest_bid  \\\n",
       "0          10140.0       41405.0          10.0 2016-08-24      0.00040   \n",
       "1          55068.0      220272.0           0.0 2017-06-21      0.00700   \n",
       "2           2676.0        4014.0           6.0 2015-08-14      0.07071   \n",
       "3           1968.0        9184.0          20.0 2016-05-17      0.02500   \n",
       "4           1092.0        3822.0           6.0 2016-12-17      0.00001   \n",
       "\n",
       "   maximum_price_allowed_new  \n",
       "0                    0.00040  \n",
       "1                    0.00700  \n",
       "2                    0.07071  \n",
       "3                    0.02500  \n",
       "4                    0.00001  \n",
       "\n",
       "[5 rows x 41 columns]"
      ]
     },
     "execution_count": 9,
     "metadata": {},
     "output_type": "execute_result"
    }
   ],
   "source": [
    "# Find the highest bid price among available bid price columns for each contract\n",
    "bid_columns = [col for col in df.columns if 'price_participants_' in col or 'second_place_price' in col]\n",
    "df['highest_bid'] = df[bid_columns].max(axis=1)\n",
    "\n",
    "# Fill NaN values in 'highest_bid' with 'winner_price' where no other bids are available\n",
    "df['highest_bid'] = df['highest_bid'].fillna(df['winner_price'])\n",
    "\n",
    "# Update 'maximum_price_allowed' with the 'highest_bid'\n",
    "df['maximum_price_allowed_new'] = df['highest_bid']\n",
    "\n",
    "# Display the updated 'maximum_price_allowed' along with relevant columns to verify the changes\n",
    "df[['contract_id', 'winner_price', 'highest_bid', 'maximum_price_allowed_new', 'maximum_price_allowed']]\n",
    "df.head()\n",
    "\n",
    "\n"
   ]
  },
  {
   "cell_type": "code",
   "execution_count": 10,
   "metadata": {},
   "outputs": [],
   "source": [
    "# Comment if do not want to drop\n",
    "\n",
    "df.drop(columns=['highest_bid'], inplace=True)\n",
    "df.drop(columns=['duration_extension'], inplace=True)\n",
    "df.drop(columns=['quantity_annual'], inplace=True)\n",
    "df.drop(columns=['maximum_price_allowed'], inplace=True)"
   ]
  },
  {
   "cell_type": "markdown",
   "metadata": {},
   "source": [
    "*Impute Missing data*"
   ]
  },
  {
   "cell_type": "code",
   "execution_count": 11,
   "metadata": {},
   "outputs": [],
   "source": [
    "# Categorical data\n",
    "\n",
    "df['atc'] = df['atc'].fillna(df['atc'].mode()[0]) \n",
    "categorical_columns = df.select_dtypes(include=['object']).columns.drop('atc')  # Adjust as necessary\n",
    "df[categorical_columns] = df[categorical_columns].fillna('N/A')"
   ]
  },
  {
   "cell_type": "markdown",
   "metadata": {},
   "source": [
    "Leave Missing Numeric Data as Null\n",
    "\n",
    "**Advantage:** Keeping the missing values as null accurately represents the situation—there was no second-place bidder, so no second-place price exists.  This is particularly meaningful in analyses focused on competitive bidding dynamics. Same applies to Participant price columns.\n",
    "\n",
    "**Disadvantage:** Some types of data analysis and certain software or tools may not handle null values well and could require additional preprocessing steps.\n"
   ]
  },
  {
   "cell_type": "code",
   "execution_count": 12,
   "metadata": {},
   "outputs": [],
   "source": [
    "#df.isnull().sum() "
   ]
  },
  {
   "cell_type": "code",
   "execution_count": 13,
   "metadata": {},
   "outputs": [
    {
     "data": {
      "text/html": [
       "<div>\n",
       "<style scoped>\n",
       "    .dataframe tbody tr th:only-of-type {\n",
       "        vertical-align: middle;\n",
       "    }\n",
       "\n",
       "    .dataframe tbody tr th {\n",
       "        vertical-align: top;\n",
       "    }\n",
       "\n",
       "    .dataframe thead th {\n",
       "        text-align: right;\n",
       "    }\n",
       "</style>\n",
       "<table border=\"1\" class=\"dataframe\">\n",
       "  <thead>\n",
       "    <tr style=\"text-align: right;\">\n",
       "      <th></th>\n",
       "      <th>active_ingredient</th>\n",
       "      <th>atc</th>\n",
       "      <th>buyer</th>\n",
       "      <th>contract_id</th>\n",
       "      <th>contract_type</th>\n",
       "      <th>duration</th>\n",
       "      <th>end_date_extension</th>\n",
       "      <th>outcome</th>\n",
       "      <th>pack_strength</th>\n",
       "      <th>participants_no</th>\n",
       "      <th>...</th>\n",
       "      <th>start_date</th>\n",
       "      <th>winner</th>\n",
       "      <th>winner_price</th>\n",
       "      <th>duration_total_new</th>\n",
       "      <th>quantity_monthly</th>\n",
       "      <th>quantity_yearly</th>\n",
       "      <th>quantity_ext</th>\n",
       "      <th>duration_ext</th>\n",
       "      <th>end_date</th>\n",
       "      <th>maximum_price_allowed_new</th>\n",
       "    </tr>\n",
       "  </thead>\n",
       "  <tbody>\n",
       "    <tr>\n",
       "      <th>0</th>\n",
       "      <td>molecule_x</td>\n",
       "      <td>C07AB07</td>\n",
       "      <td>buyer_1</td>\n",
       "      <td>1</td>\n",
       "      <td>regional</td>\n",
       "      <td>39</td>\n",
       "      <td>2017-06-30</td>\n",
       "      <td>won</td>\n",
       "      <td>10mg</td>\n",
       "      <td>1</td>\n",
       "      <td>...</td>\n",
       "      <td>2013-05-24</td>\n",
       "      <td>participants_16</td>\n",
       "      <td>0.00040</td>\n",
       "      <td>49.0</td>\n",
       "      <td>845.0</td>\n",
       "      <td>10140.0</td>\n",
       "      <td>41405.0</td>\n",
       "      <td>10.0</td>\n",
       "      <td>2016-08-24</td>\n",
       "      <td>0.00040</td>\n",
       "    </tr>\n",
       "    <tr>\n",
       "      <th>1</th>\n",
       "      <td>molecule_x</td>\n",
       "      <td>C07AB07</td>\n",
       "      <td>buyer_2</td>\n",
       "      <td>2</td>\n",
       "      <td>wide area</td>\n",
       "      <td>48</td>\n",
       "      <td>2017-06-30</td>\n",
       "      <td>won</td>\n",
       "      <td>10mg</td>\n",
       "      <td>1</td>\n",
       "      <td>...</td>\n",
       "      <td>2013-06-21</td>\n",
       "      <td>participants_16</td>\n",
       "      <td>0.00700</td>\n",
       "      <td>48.0</td>\n",
       "      <td>4589.0</td>\n",
       "      <td>55068.0</td>\n",
       "      <td>220272.0</td>\n",
       "      <td>0.0</td>\n",
       "      <td>2017-06-21</td>\n",
       "      <td>0.00700</td>\n",
       "    </tr>\n",
       "    <tr>\n",
       "      <th>2</th>\n",
       "      <td>molecule_x</td>\n",
       "      <td>C07AB07</td>\n",
       "      <td>buyer_3</td>\n",
       "      <td>3</td>\n",
       "      <td>regional</td>\n",
       "      <td>12</td>\n",
       "      <td>2016-02-14</td>\n",
       "      <td>won</td>\n",
       "      <td>10mg</td>\n",
       "      <td>2</td>\n",
       "      <td>...</td>\n",
       "      <td>2014-08-14</td>\n",
       "      <td>participants_16</td>\n",
       "      <td>0.01400</td>\n",
       "      <td>18.0</td>\n",
       "      <td>223.0</td>\n",
       "      <td>2676.0</td>\n",
       "      <td>4014.0</td>\n",
       "      <td>6.0</td>\n",
       "      <td>2015-08-14</td>\n",
       "      <td>0.07071</td>\n",
       "    </tr>\n",
       "    <tr>\n",
       "      <th>3</th>\n",
       "      <td>molecule_x</td>\n",
       "      <td>C07AB07</td>\n",
       "      <td>buyer_4</td>\n",
       "      <td>4</td>\n",
       "      <td>regional</td>\n",
       "      <td>36</td>\n",
       "      <td>2017-12-31</td>\n",
       "      <td>won</td>\n",
       "      <td>10mg</td>\n",
       "      <td>1</td>\n",
       "      <td>...</td>\n",
       "      <td>2013-05-17</td>\n",
       "      <td>participants_16</td>\n",
       "      <td>0.02500</td>\n",
       "      <td>56.0</td>\n",
       "      <td>164.0</td>\n",
       "      <td>1968.0</td>\n",
       "      <td>9184.0</td>\n",
       "      <td>20.0</td>\n",
       "      <td>2016-05-17</td>\n",
       "      <td>0.02500</td>\n",
       "    </tr>\n",
       "    <tr>\n",
       "      <th>4</th>\n",
       "      <td>molecule_x</td>\n",
       "      <td>C07AB07</td>\n",
       "      <td>buyer_5</td>\n",
       "      <td>5</td>\n",
       "      <td>regional</td>\n",
       "      <td>36</td>\n",
       "      <td>2017-06-30</td>\n",
       "      <td>won</td>\n",
       "      <td>10mg</td>\n",
       "      <td>1</td>\n",
       "      <td>...</td>\n",
       "      <td>2013-12-17</td>\n",
       "      <td>participants_16</td>\n",
       "      <td>0.00001</td>\n",
       "      <td>42.0</td>\n",
       "      <td>91.0</td>\n",
       "      <td>1092.0</td>\n",
       "      <td>3822.0</td>\n",
       "      <td>6.0</td>\n",
       "      <td>2016-12-17</td>\n",
       "      <td>0.00001</td>\n",
       "    </tr>\n",
       "  </tbody>\n",
       "</table>\n",
       "<p>5 rows × 37 columns</p>\n",
       "</div>"
      ],
      "text/plain": [
       "  active_ingredient      atc    buyer  contract_id contract_type  duration  \\\n",
       "0        molecule_x  C07AB07  buyer_1            1      regional        39   \n",
       "1        molecule_x  C07AB07  buyer_2            2     wide area        48   \n",
       "2        molecule_x  C07AB07  buyer_3            3      regional        12   \n",
       "3        molecule_x  C07AB07  buyer_4            4      regional        36   \n",
       "4        molecule_x  C07AB07  buyer_5            5      regional        36   \n",
       "\n",
       "  end_date_extension outcome pack_strength  participants_no  ...  start_date  \\\n",
       "0         2017-06-30     won          10mg                1  ...  2013-05-24   \n",
       "1         2017-06-30     won          10mg                1  ...  2013-06-21   \n",
       "2         2016-02-14     won          10mg                2  ...  2014-08-14   \n",
       "3         2017-12-31     won          10mg                1  ...  2013-05-17   \n",
       "4         2017-06-30     won          10mg                1  ...  2013-12-17   \n",
       "\n",
       "            winner  winner_price  duration_total_new  quantity_monthly  \\\n",
       "0  participants_16       0.00040                49.0             845.0   \n",
       "1  participants_16       0.00700                48.0            4589.0   \n",
       "2  participants_16       0.01400                18.0             223.0   \n",
       "3  participants_16       0.02500                56.0             164.0   \n",
       "4  participants_16       0.00001                42.0              91.0   \n",
       "\n",
       "   quantity_yearly  quantity_ext  duration_ext   end_date  \\\n",
       "0          10140.0       41405.0          10.0 2016-08-24   \n",
       "1          55068.0      220272.0           0.0 2017-06-21   \n",
       "2           2676.0        4014.0           6.0 2015-08-14   \n",
       "3           1968.0        9184.0          20.0 2016-05-17   \n",
       "4           1092.0        3822.0           6.0 2016-12-17   \n",
       "\n",
       "  maximum_price_allowed_new  \n",
       "0                   0.00040  \n",
       "1                   0.00700  \n",
       "2                   0.07071  \n",
       "3                   0.02500  \n",
       "4                   0.00001  \n",
       "\n",
       "[5 rows x 37 columns]"
      ]
     },
     "execution_count": 13,
     "metadata": {},
     "output_type": "execute_result"
    }
   ],
   "source": [
    "df.head()"
   ]
  },
  {
   "cell_type": "code",
   "execution_count": 14,
   "metadata": {},
   "outputs": [],
   "source": [
    "#df.to_csv('df.csv', index=False)"
   ]
  },
  {
   "cell_type": "markdown",
   "metadata": {},
   "source": [
    "**EDA**"
   ]
  },
  {
   "cell_type": "code",
   "execution_count": 15,
   "metadata": {},
   "outputs": [
    {
     "name": "stdout",
     "output_type": "stream",
     "text": [
      "<class 'pandas.core.frame.DataFrame'>\n",
      "RangeIndex: 31 entries, 0 to 30\n",
      "Data columns (total 37 columns):\n",
      " #   Column                     Non-Null Count  Dtype         \n",
      "---  ------                     --------------  -----         \n",
      " 0   active_ingredient          31 non-null     object        \n",
      " 1   atc                        31 non-null     object        \n",
      " 2   buyer                      31 non-null     object        \n",
      " 3   contract_id                31 non-null     int64         \n",
      " 4   contract_type              31 non-null     object        \n",
      " 5   duration                   31 non-null     int64         \n",
      " 6   end_date_extension         31 non-null     datetime64[ns]\n",
      " 7   outcome                    31 non-null     object        \n",
      " 8   pack_strength              31 non-null     object        \n",
      " 9   participants_no            31 non-null     int64         \n",
      " 10  price_participants_16      22 non-null     float64       \n",
      " 11  price_participants_19      14 non-null     float64       \n",
      " 12  price_participants_23      12 non-null     float64       \n",
      " 13  price_participants_24      1 non-null      float64       \n",
      " 14  price_participants_4       1 non-null      float64       \n",
      " 15  price_participants_5       1 non-null      float64       \n",
      " 16  price_participants_6       3 non-null      float64       \n",
      " 17  price_participants_7       2 non-null      float64       \n",
      " 18  price_participants_8       1 non-null      float64       \n",
      " 19  published_date             31 non-null     object        \n",
      " 20  published_date_month       31 non-null     object        \n",
      " 21  quantity_total             31 non-null     float64       \n",
      " 22  region                     31 non-null     object        \n",
      " 23  second_place               31 non-null     object        \n",
      " 24  second_place_outcome       31 non-null     object        \n",
      " 25  second_place_price         15 non-null     float64       \n",
      " 26  sku                        31 non-null     object        \n",
      " 27  start_date                 31 non-null     datetime64[ns]\n",
      " 28  winner                     31 non-null     object        \n",
      " 29  winner_price               31 non-null     float64       \n",
      " 30  duration_total_new         31 non-null     float64       \n",
      " 31  quantity_monthly           31 non-null     float64       \n",
      " 32  quantity_yearly            31 non-null     float64       \n",
      " 33  quantity_ext               31 non-null     float64       \n",
      " 34  duration_ext               31 non-null     float64       \n",
      " 35  end_date                   31 non-null     datetime64[ns]\n",
      " 36  maximum_price_allowed_new  31 non-null     float64       \n",
      "dtypes: datetime64[ns](3), float64(18), int64(3), object(13)\n",
      "memory usage: 9.1+ KB\n"
     ]
    }
   ],
   "source": [
    "# Display basic information and the first few rows of the dataset\n",
    "df_info = df.info()\n",
    "df_head = df.head()\n",
    "#df_info, df_head"
   ]
  },
  {
   "cell_type": "code",
   "execution_count": 16,
   "metadata": {},
   "outputs": [],
   "source": [
    "profile = ProfileReport(df, title=\"Pandas Profiling Report\", explorative=True)\n",
    "#profile\n",
    "# Save the profile report as an HTML file\n",
    "#profile.to_file(\"profile_report.html\")"
   ]
  },
  {
   "cell_type": "code",
   "execution_count": 17,
   "metadata": {},
   "outputs": [
    {
     "data": {
      "image/png": "[encoded data removed]",
      "text/plain": [
       "<Figure size 1400x1200 with 6 Axes>"
      ]
     },
     "metadata": {},
     "output_type": "display_data"
    }
   ],
   "source": [
    "# Univariate Analysis - Numeric Variables\n",
    "fig, axes = plt.subplots(3, 2, figsize=(14, 12))\n",
    "fig.suptitle('Univariate Analysis of Numerical Variables')\n",
    "\n",
    "# Duration\n",
    "sns.histplot(df['duration'], kde=True, ax=axes[0, 0])\n",
    "axes[0, 0].set_title('Distribution of Duration')\n",
    "\n",
    "# Maximum Price Allowed\n",
    "sns.histplot(df['maximum_price_allowed_new'], kde=True, ax=axes[0, 1])\n",
    "axes[0, 1].set_title('Distribution of Maximum Price Allowed')\n",
    "\n",
    "# Quantity Annual\n",
    "sns.histplot(df['quantity_yearly'], kde=True, ax=axes[1, 0])\n",
    "axes[1, 0].set_title('Distribution of Quantity Yearly')\n",
    "\n",
    "# Quantity Total\n",
    "sns.histplot(df['quantity_total'], kde=True, ax=axes[1, 1])\n",
    "axes[1, 1].set_title('Distribution of Quantity Total')\n",
    "\n",
    "# Winner Price\n",
    "sns.histplot(df['winner_price'], kde=True, ax=axes[2, 0])\n",
    "axes[2, 0].set_title('Distribution of Winner Price')\n",
    "\n",
    "# Quantity Monthly\n",
    "sns.histplot(df['quantity_monthly'], kde=True, ax=axes[2, 1])\n",
    "axes[2, 1].set_title('Distribution of Quantity Monthly')\n",
    "\n",
    "plt.tight_layout(rect=[0, 0.03, 1, 0.95])\n",
    "plt.show()\n",
    "\n",
    "\n"
   ]
  },
  {
   "cell_type": "markdown",
   "metadata": {},
   "source": [
    "Univariate Analysis Results:\n",
    "\n",
    "The histograms provide insights into the distributions of several key numerical variables:\n",
    "\n",
    "- **Duration:** Shows a relatively varied distribution of contract durations.\n",
    "- **Maximum Price Allowed:** Highly skewed towards lower values, with potential outliers at the higher end.\n",
    "- **Quantity Yearly:** Also skewed, suggesting most contracts involve smaller quantities with some exceptions.\n",
    "- **Quantity Total:** Similar to the yearly quantity, indicating consistency between annual and total quantities.\n",
    "- **Winner Price:** Skewed towards lower values, with a few higher prices indicating competitive discrepancies.\n",
    "- **Quantity Monthly:** Displays right skewness similar to other quantity metrics, reinforcing the pattern seen in other quantity distributions.\n"
   ]
  },
  {
   "cell_type": "code",
   "execution_count": 18,
   "metadata": {},
   "outputs": [
    {
     "data": {
      "image/png": "[encoded data removed]",
      "text/plain": [
       "<Figure size 1400x1200 with 6 Axes>"
      ]
     },
     "metadata": {},
     "output_type": "display_data"
    }
   ],
   "source": [
    "# Outlier detection using boxplots for key numerical variables\n",
    "fig, axes = plt.subplots(3, 2, figsize=(14, 12))\n",
    "fig.suptitle('Outlier Analysis of Numerical Variables')\n",
    "\n",
    "# Duration\n",
    "sns.boxplot(x=df['duration'], ax=axes[0, 0])\n",
    "axes[0, 0].set_title('Boxplot of Duration')\n",
    "\n",
    "# Maximum Price Allowed\n",
    "sns.boxplot(x=df['maximum_price_allowed_new'], ax=axes[0, 1])\n",
    "axes[0, 1].set_title('Boxplot of Maximum Price Allowed')\n",
    "\n",
    "# Quantity Yearly\n",
    "sns.boxplot(x=df['quantity_yearly'], ax=axes[1, 0])\n",
    "axes[1, 0].set_title('Boxplot of Quantity Yearly')\n",
    "\n",
    "# Quantity Total\n",
    "sns.boxplot(x=df['quantity_total'], ax=axes[1, 1])\n",
    "axes[1, 1].set_title('Boxplot of Quantity Total')\n",
    "\n",
    "# Winner Price\n",
    "sns.boxplot(x=df['winner_price'], ax=axes[2, 0])\n",
    "axes[2, 0].set_title('Boxplot of Winner Price')\n",
    "\n",
    "# Quantity Monthly\n",
    "sns.boxplot(x=df['quantity_monthly'], ax=axes[2, 1])\n",
    "axes[2, 1].set_title('Boxplot of Quantity Monthly')\n",
    "\n",
    "plt.tight_layout(rect=[0, 0.03, 1, 0.95])\n",
    "plt.show()\n"
   ]
  },
  {
   "cell_type": "markdown",
   "metadata": {},
   "source": [
    "Outlier Analysis Results:\n",
    "\n",
    "The boxplots provide a clearer picture of the distribution of key numerical variables and highlight potential outliers:\n",
    "\n",
    "- **Duration:** There are no significant outliers, suggesting a consistent range of contract durations across the dataset.\n",
    "- **Maximum Price Allowed:** Several outliers on the upper end indicate that a few contracts have a significantly higher maximum price than typical contracts.\n",
    "- **Quantity Yearly** and **Quantity Total:** Both variables show outliers on the higher end, indicating that some contracts involve substantially larger quantities.\n",
    "- **Winner Price:** There are outliers present, indicating a few contracts where the winning price was significantly lower than the majority.\n",
    "- **Quantity Monthly:** This also shows outliers at the high end, consistent with outliers in the annual and total quantity data.\n"
   ]
  },
  {
   "cell_type": "code",
   "execution_count": 19,
   "metadata": {},
   "outputs": [
    {
     "data": {
      "image/png": "[encoded data removed]",
      "text/plain": [
       "<Figure size 1400x1200 with 6 Axes>"
      ]
     },
     "metadata": {},
     "output_type": "display_data"
    }
   ],
   "source": [
    "# Bivariate Analysis - focusing on relationships between key variables\n",
    "fig, axes = plt.subplots(3, 2, figsize=(14, 12))\n",
    "fig.suptitle('Bivariate Analysis of Key Relationships')\n",
    "\n",
    "# Relationship between Duration and Winner Price\n",
    "sns.scatterplot(x='duration', y='winner_price', data=df, ax=axes[0, 0])\n",
    "axes[0, 0].set_title('Duration vs. Winner Price')\n",
    "\n",
    "# Relationship between Maximum Price Allowed and Winner Price\n",
    "sns.scatterplot(x='maximum_price_allowed_new', y='winner_price', data=df, ax=axes[0, 1])\n",
    "axes[0, 1].set_title('Maximum Price Allowed vs. Winner Price')\n",
    "\n",
    "# Relationship between Quantity Yearly and Winner Price\n",
    "sns.scatterplot(x='quantity_yearly', y='winner_price', data=df, ax=axes[1, 0])\n",
    "axes[1, 0].set_title('Quantity Yearly vs. Winner Price')\n",
    "\n",
    "# Relationship between Quantity Total and Winner Price\n",
    "sns.scatterplot(x='quantity_total', y='winner_price', data=df, ax=axes[1, 1])\n",
    "axes[1, 1].set_title('Quantity Total vs. Winner Price')\n",
    "\n",
    "# Relationship between Quantity Monthly and Winner Price\n",
    "sns.scatterplot(x='quantity_monthly', y='winner_price', data=df, ax=axes[2, 0])\n",
    "axes[2, 0].set_title('Quantity Monthly vs. Winner Price')\n",
    "\n",
    "# Relationship between Duration and Quantity Yearly\n",
    "sns.scatterplot(x='duration', y='quantity_yearly', data=df, ax=axes[2, 1])\n",
    "axes[2, 1].set_title('Duration vs. Quantity Yearly')\n",
    "\n",
    "plt.tight_layout(rect=[0, 0.03, 1, 0.95])\n",
    "plt.show()\n"
   ]
  },
  {
   "cell_type": "markdown",
   "metadata": {},
   "source": [
    "Bivariate Analysis Results:\n",
    "\n",
    "The scatter plots explore relationships between several key variables, providing insights into how they might influence each other:\n",
    "\n",
    "- **Duration vs. Winner Price:**\n",
    "  There does not appear to be a clear linear relationship between the duration of contracts and the winner price. The distribution is quite scattered.\n",
    "- **Maximum Price Allowed vs. Winner Price:**\n",
    "  Similarly, no strong correlation is evident between the maximum price allowed and the winner price. This suggests that other factors might be influencing the final agreed prices.\n",
    "- **Quantity Yearly vs. Winner Price:**\n",
    "  The plot shows a possible trend where higher annual quantities might correlate with lower winner prices, which could be due to volume discounts or competitive bidding for larger contracts.\n",
    "- **Quantity Total vs. Winner Price:**\n",
    "  This relationship appears similar to the annual quantity, indicating that total contract quantity and annual quantity closely mirror each other in their effect on pricing.\n",
    "- **Quantity Monthly vs. Winner Price:**\n",
    "  The relationship here also hints at lower prices for higher monthly quantities, aligning with bulk purchasing benefits.\n",
    "- **Duration vs. Quantity Annual:**\n",
    "  No strong correlation is observed between the duration of contracts and annual quantities. Contracts of various lengths seem to accommodate a wide range of quantities.\n"
   ]
  },
  {
   "cell_type": "code",
   "execution_count": 20,
   "metadata": {},
   "outputs": [
    {
     "data": {
      "application/vnd.plotly.v1+json": {
       "config": {
        "plotlyServerURL": "https://plot.ly"
       },
       "data": [
        {
         "customdata": [
          [
           "buyer_1",
           "regional"
          ]
         ],
         "hovertemplate": "Region=%{x}<br>Winner Price=%{y}<br>buyer=%{customdata[0]}<br>contract_type=%{customdata[1]}<extra></extra>",
         "legendgroup": "region_1",
         "marker": {
          "color": "#636efa",
          "line": {
           "color": "DarkSlateGrey",
           "width": 2
          },
          "size": 12,
          "symbol": "circle"
         },
         "mode": "markers",
         "name": "region_1",
         "orientation": "v",
         "showlegend": true,
         "type": "scatter",
         "x": [
          "region_1"
         ],
         "xaxis": "x",
         "y": [
          0.0004
         ],
         "yaxis": "y"
        },
        {
         "customdata": [
          [
           "buyer_2",
           "wide area"
          ],
          [
           "buyer_2",
           "regional"
          ],
          [
           "buyer_2",
           "regional"
          ]
         ],
         "hovertemplate": "Region=%{x}<br>Winner Price=%{y}<br>buyer=%{customdata[0]}<br>contract_type=%{customdata[1]}<extra></extra>",
         "legendgroup": "region_2",
         "marker": {
          "color": "#EF553B",
          "line": {
           "color": "DarkSlateGrey",
           "width": 2
          },
          "size": 12,
          "symbol": "circle"
         },
         "mode": "markers",
         "name": "region_2",
         "orientation": "v",
         "showlegend": true,
         "type": "scatter",
         "x": [
          "region_2",
          "region_2",
          "region_2"
         ],
         "xaxis": "x",
         "y": [
          0.007,
          0.034,
          0.0205
         ],
         "yaxis": "y"
        },
        {
         "customdata": [
          [
           "buyer_3",
           "regional"
          ],
          [
           "buyer_3",
           "regional"
          ]
         ],
         "hovertemplate": "Region=%{x}<br>Winner Price=%{y}<br>buyer=%{customdata[0]}<br>contract_type=%{customdata[1]}<extra></extra>",
         "legendgroup": "region_3",
         "marker": {
          "color": "#00cc96",
          "line": {
           "color": "DarkSlateGrey",
           "width": 2
          },
          "size": 12,
          "symbol": "circle"
         },
         "mode": "markers",
         "name": "region_3",
         "orientation": "v",
         "showlegend": true,
         "type": "scatter",
         "x": [
          "region_3",
          "region_3"
         ],
         "xaxis": "x",
         "y": [
          0.014,
          0.02
         ],
         "yaxis": "y"
        },
        {
         "customdata": [
          [
           "buyer_4",
           "regional"
          ],
          [
           "buyer_14",
           "regional"
          ]
         ],
         "hovertemplate": "Region=%{x}<br>Winner Price=%{y}<br>buyer=%{customdata[0]}<br>contract_type=%{customdata[1]}<extra></extra>",
         "legendgroup": "region_4",
         "marker": {
          "color": "#ab63fa",
          "line": {
           "color": "DarkSlateGrey",
           "width": 2
          },
          "size": 12,
          "symbol": "circle"
         },
         "mode": "markers",
         "name": "region_4",
         "orientation": "v",
         "showlegend": true,
         "type": "scatter",
         "x": [
          "region_4",
          "region_4"
         ],
         "xaxis": "x",
         "y": [
          0.025,
          0.017
         ],
         "yaxis": "y"
        },
        {
         "customdata": [
          [
           "buyer_5",
           "regional"
          ],
          [
           "buyer_5",
           "multi-region"
          ],
          [
           "buyer_16",
           "multi-region"
          ]
         ],
         "hovertemplate": "Region=%{x}<br>Winner Price=%{y}<br>buyer=%{customdata[0]}<br>contract_type=%{customdata[1]}<extra></extra>",
         "legendgroup": "region_5",
         "marker": {
          "color": "#FFA15A",
          "line": {
           "color": "DarkSlateGrey",
           "width": 2
          },
          "size": 12,
          "symbol": "circle"
         },
         "mode": "markers",
         "name": "region_5",
         "orientation": "v",
         "showlegend": true,
         "type": "scatter",
         "x": [
          "region_5",
          "region_5",
          "region_5"
         ],
         "xaxis": "x",
         "y": [
          0.00001,
          0.02,
          0.0125
         ],
         "yaxis": "y"
        },
        {
         "customdata": [
          [
           "buyer_6",
           "regional"
          ],
          [
           "buyer_19",
           "regional"
          ],
          [
           "buyer_19",
           "regional"
          ]
         ],
         "hovertemplate": "Region=%{x}<br>Winner Price=%{y}<br>buyer=%{customdata[0]}<br>contract_type=%{customdata[1]}<extra></extra>",
         "legendgroup": "region_6",
         "marker": {
          "color": "#19d3f3",
          "line": {
           "color": "DarkSlateGrey",
           "width": 2
          },
          "size": 12,
          "symbol": "circle"
         },
         "mode": "markers",
         "name": "region_6",
         "orientation": "v",
         "showlegend": true,
         "type": "scatter",
         "x": [
          "region_6",
          "region_6",
          "region_6"
         ],
         "xaxis": "x",
         "y": [
          0.019,
          0.015,
          0.015
         ],
         "yaxis": "y"
        },
        {
         "customdata": [
          [
           "buyer_7",
           "regional"
          ],
          [
           "buyer_7",
           "regional"
          ]
         ],
         "hovertemplate": "Region=%{x}<br>Winner Price=%{y}<br>buyer=%{customdata[0]}<br>contract_type=%{customdata[1]}<extra></extra>",
         "legendgroup": "region_7",
         "marker": {
          "color": "#FF6692",
          "line": {
           "color": "DarkSlateGrey",
           "width": 2
          },
          "size": 12,
          "symbol": "circle"
         },
         "mode": "markers",
         "name": "region_7",
         "orientation": "v",
         "showlegend": true,
         "type": "scatter",
         "x": [
          "region_7",
          "region_7"
         ],
         "xaxis": "x",
         "y": [
          0.00001,
          0.00005
         ],
         "yaxis": "y"
        },
        {
         "customdata": [
          [
           "buyer_8",
           "regional"
          ],
          [
           "buyer_8",
           "multi-region"
          ],
          [
           "buyer_8",
           "regional"
          ]
         ],
         "hovertemplate": "Region=%{x}<br>Winner Price=%{y}<br>buyer=%{customdata[0]}<br>contract_type=%{customdata[1]}<extra></extra>",
         "legendgroup": "region_8",
         "marker": {
          "color": "#B6E880",
          "line": {
           "color": "DarkSlateGrey",
           "width": 2
          },
          "size": 12,
          "symbol": "circle"
         },
         "mode": "markers",
         "name": "region_8",
         "orientation": "v",
         "showlegend": true,
         "type": "scatter",
         "x": [
          "region_8",
          "region_8",
          "region_8"
         ],
         "xaxis": "x",
         "y": [
          0.03,
          0.035,
          0.0155
         ],
         "yaxis": "y"
        },
        {
         "customdata": [
          [
           "buyer_9",
           "regional"
          ],
          [
           "buyer_15",
           "multi-region"
          ]
         ],
         "hovertemplate": "Region=%{x}<br>Winner Price=%{y}<br>buyer=%{customdata[0]}<br>contract_type=%{customdata[1]}<extra></extra>",
         "legendgroup": "region_9",
         "marker": {
          "color": "#FF97FF",
          "line": {
           "color": "DarkSlateGrey",
           "width": 2
          },
          "size": 12,
          "symbol": "circle"
         },
         "mode": "markers",
         "name": "region_9",
         "orientation": "v",
         "showlegend": true,
         "type": "scatter",
         "x": [
          "region_9",
          "region_9"
         ],
         "xaxis": "x",
         "y": [
          0.00001,
          0.01607
         ],
         "yaxis": "y"
        },
        {
         "customdata": [
          [
           "buyer_10",
           "regional"
          ]
         ],
         "hovertemplate": "Region=%{x}<br>Winner Price=%{y}<br>buyer=%{customdata[0]}<br>contract_type=%{customdata[1]}<extra></extra>",
         "legendgroup": "region_10",
         "marker": {
          "color": "#FECB52",
          "line": {
           "color": "DarkSlateGrey",
           "width": 2
          },
          "size": 12,
          "symbol": "circle"
         },
         "mode": "markers",
         "name": "region_10",
         "orientation": "v",
         "showlegend": true,
         "type": "scatter",
         "x": [
          "region_10"
         ],
         "xaxis": "x",
         "y": [
          0.0001
         ],
         "yaxis": "y"
        },
        {
         "customdata": [
          [
           "buyer_11",
           "regional"
          ],
          [
           "buyer_11",
           "regional"
          ],
          [
           "buyer_11",
           "regional"
          ]
         ],
         "hovertemplate": "Region=%{x}<br>Winner Price=%{y}<br>buyer=%{customdata[0]}<br>contract_type=%{customdata[1]}<extra></extra>",
         "legendgroup": "region_11",
         "marker": {
          "color": "#636efa",
          "line": {
           "color": "DarkSlateGrey",
           "width": 2
          },
          "size": 12,
          "symbol": "circle"
         },
         "mode": "markers",
         "name": "region_11",
         "orientation": "v",
         "showlegend": true,
         "type": "scatter",
         "x": [
          "region_11",
          "region_11",
          "region_11"
         ],
         "xaxis": "x",
         "y": [
          0.01699,
          0.01786,
          0.01786
         ],
         "yaxis": "y"
        },
        {
         "customdata": [
          [
           "buyer_12",
           "multi-region"
          ],
          [
           "buyer_12",
           "regional"
          ]
         ],
         "hovertemplate": "Region=%{x}<br>Winner Price=%{y}<br>buyer=%{customdata[0]}<br>contract_type=%{customdata[1]}<extra></extra>",
         "legendgroup": "region_12",
         "marker": {
          "color": "#EF553B",
          "line": {
           "color": "DarkSlateGrey",
           "width": 2
          },
          "size": 12,
          "symbol": "circle"
         },
         "mode": "markers",
         "name": "region_12",
         "orientation": "v",
         "showlegend": true,
         "type": "scatter",
         "x": [
          "region_12",
          "region_12"
         ],
         "xaxis": "x",
         "y": [
          0.02,
          0.018
         ],
         "yaxis": "y"
        },
        {
         "customdata": [
          [
           "buyer_13",
           "regional"
          ]
         ],
         "hovertemplate": "Region=%{x}<br>Winner Price=%{y}<br>buyer=%{customdata[0]}<br>contract_type=%{customdata[1]}<extra></extra>",
         "legendgroup": "region_13",
         "marker": {
          "color": "#00cc96",
          "line": {
           "color": "DarkSlateGrey",
           "width": 2
          },
          "size": 12,
          "symbol": "circle"
         },
         "mode": "markers",
         "name": "region_13",
         "orientation": "v",
         "showlegend": true,
         "type": "scatter",
         "x": [
          "region_13"
         ],
         "xaxis": "x",
         "y": [
          0.05
         ],
         "yaxis": "y"
        },
        {
         "customdata": [
          [
           "buyer_17",
           "regional"
          ]
         ],
         "hovertemplate": "Region=%{x}<br>Winner Price=%{y}<br>buyer=%{customdata[0]}<br>contract_type=%{customdata[1]}<extra></extra>",
         "legendgroup": "region_14",
         "marker": {
          "color": "#ab63fa",
          "line": {
           "color": "DarkSlateGrey",
           "width": 2
          },
          "size": 12,
          "symbol": "circle"
         },
         "mode": "markers",
         "name": "region_14",
         "orientation": "v",
         "showlegend": true,
         "type": "scatter",
         "x": [
          "region_14"
         ],
         "xaxis": "x",
         "y": [
          0.0123
         ],
         "yaxis": "y"
        },
        {
         "customdata": [
          [
           "buyer_18",
           "multi-region"
          ]
         ],
         "hovertemplate": "Region=%{x}<br>Winner Price=%{y}<br>buyer=%{customdata[0]}<br>contract_type=%{customdata[1]}<extra></extra>",
         "legendgroup": "region_15",
         "marker": {
          "color": "#FFA15A",
          "line": {
           "color": "DarkSlateGrey",
           "width": 2
          },
          "size": 12,
          "symbol": "circle"
         },
         "mode": "markers",
         "name": "region_15",
         "orientation": "v",
         "showlegend": true,
         "type": "scatter",
         "x": [
          "region_15"
         ],
         "xaxis": "x",
         "y": [
          0.0122
         ],
         "yaxis": "y"
        },
        {
         "customdata": [
          [
           "buyer_16",
           "regional"
          ]
         ],
         "hovertemplate": "Region=%{x}<br>Winner Price=%{y}<br>buyer=%{customdata[0]}<br>contract_type=%{customdata[1]}<extra></extra>",
         "legendgroup": "region_16",
         "marker": {
          "color": "#19d3f3",
          "line": {
           "color": "DarkSlateGrey",
           "width": 2
          },
          "size": 12,
          "symbol": "circle"
         },
         "mode": "markers",
         "name": "region_16",
         "orientation": "v",
         "showlegend": true,
         "type": "scatter",
         "x": [
          "region_16"
         ],
         "xaxis": "x",
         "y": [
          0.02393
         ],
         "yaxis": "y"
        }
       ],
       "layout": {
        "legend": {
         "title": {
          "text": "Region"
         },
         "tracegroupgap": 0
        },
        "template": {
         "data": {
          "bar": [
           {
            "error_x": {
             "color": "#2a3f5f"
            },
            "error_y": {
             "color": "#2a3f5f"
            },
            "marker": {
             "line": {
              "color": "#E5ECF6",
              "width": 0.5
             },
             "pattern": {
              "fillmode": "overlay",
              "size": 10,
              "solidity": 0.2
             }
            },
            "type": "bar"
           }
          ],
          "barpolar": [
           {
            "marker": {
             "line": {
              "color": "#E5ECF6",
              "width": 0.5
             },
             "pattern": {
              "fillmode": "overlay",
              "size": 10,
              "solidity": 0.2
             }
            },
            "type": "barpolar"
           }
          ],
          "carpet": [
           {
            "aaxis": {
             "endlinecolor": "#2a3f5f",
             "gridcolor": "white",
             "linecolor": "white",
             "minorgridcolor": "white",
             "startlinecolor": "#2a3f5f"
            },
            "baxis": {
             "endlinecolor": "#2a3f5f",
             "gridcolor": "white",
             "linecolor": "white",
             "minorgridcolor": "white",
             "startlinecolor": "#2a3f5f"
            },
            "type": "carpet"
           }
          ],
          "choropleth": [
           {
            "colorbar": {
             "outlinewidth": 0,
             "ticks": ""
            },
            "type": "choropleth"
           }
          ],
          "contour": [
           {
            "colorbar": {
             "outlinewidth": 0,
             "ticks": ""
            },
            "colorscale": [
             [
              0,
              "#0d0887"
             ],
             [
              0.1111111111111111,
              "#46039f"
             ],
             [
              0.2222222222222222,
              "#7201a8"
             ],
             [
              0.3333333333333333,
              "#9c179e"
             ],
             [
              0.4444444444444444,
              "#bd3786"
             ],
             [
              0.5555555555555556,
              "#d8576b"
             ],
             [
              0.6666666666666666,
              "#ed7953"
             ],
             [
              0.7777777777777778,
              "#fb9f3a"
             ],
             [
              0.8888888888888888,
              "#fdca26"
             ],
             [
              1,
              "#f0f921"
             ]
            ],
            "type": "contour"
           }
          ],
          "contourcarpet": [
           {
            "colorbar": {
             "outlinewidth": 0,
             "ticks": ""
            },
            "type": "contourcarpet"
           }
          ],
          "heatmap": [
           {
            "colorbar": {
             "outlinewidth": 0,
             "ticks": ""
            },
            "colorscale": [
             [
              0,
              "#0d0887"
             ],
             [
              0.1111111111111111,
              "#46039f"
             ],
             [
              0.2222222222222222,
              "#7201a8"
             ],
             [
              0.3333333333333333,
              "#9c179e"
             ],
             [
              0.4444444444444444,
              "#bd3786"
             ],
             [
              0.5555555555555556,
              "#d8576b"
             ],
             [
              0.6666666666666666,
              "#ed7953"
             ],
             [
              0.7777777777777778,
              "#fb9f3a"
             ],
             [
              0.8888888888888888,
              "#fdca26"
             ],
             [
              1,
              "#f0f921"
             ]
            ],
            "type": "heatmap"
           }
          ],
          "heatmapgl": [
           {
            "colorbar": {
             "outlinewidth": 0,
             "ticks": ""
            },
            "colorscale": [
             [
              0,
              "#0d0887"
             ],
             [
              0.1111111111111111,
              "#46039f"
             ],
             [
              0.2222222222222222,
              "#7201a8"
             ],
             [
              0.3333333333333333,
              "#9c179e"
             ],
             [
              0.4444444444444444,
              "#bd3786"
             ],
             [
              0.5555555555555556,
              "#d8576b"
             ],
             [
              0.6666666666666666,
              "#ed7953"
             ],
             [
              0.7777777777777778,
              "#fb9f3a"
             ],
             [
              0.8888888888888888,
              "#fdca26"
             ],
             [
              1,
              "#f0f921"
             ]
            ],
            "type": "heatmapgl"
           }
          ],
          "histogram": [
           {
            "marker": {
             "pattern": {
              "fillmode": "overlay",
              "size": 10,
              "solidity": 0.2
             }
            },
            "type": "histogram"
           }
          ],
          "histogram2d": [
           {
            "colorbar": {
             "outlinewidth": 0,
             "ticks": ""
            },
            "colorscale": [
             [
              0,
              "#0d0887"
             ],
             [
              0.1111111111111111,
              "#46039f"
             ],
             [
              0.2222222222222222,
              "#7201a8"
             ],
             [
              0.3333333333333333,
              "#9c179e"
             ],
             [
              0.4444444444444444,
              "#bd3786"
             ],
             [
              0.5555555555555556,
              "#d8576b"
             ],
             [
              0.6666666666666666,
              "#ed7953"
             ],
             [
              0.7777777777777778,
              "#fb9f3a"
             ],
             [
              0.8888888888888888,
              "#fdca26"
             ],
             [
              1,
              "#f0f921"
             ]
            ],
            "type": "histogram2d"
           }
          ],
          "histogram2dcontour": [
           {
            "colorbar": {
             "outlinewidth": 0,
             "ticks": ""
            },
            "colorscale": [
             [
              0,
              "#0d0887"
             ],
             [
              0.1111111111111111,
              "#46039f"
             ],
             [
              0.2222222222222222,
              "#7201a8"
             ],
             [
              0.3333333333333333,
              "#9c179e"
             ],
             [
              0.4444444444444444,
              "#bd3786"
             ],
             [
              0.5555555555555556,
              "#d8576b"
             ],
             [
              0.6666666666666666,
              "#ed7953"
             ],
             [
              0.7777777777777778,
              "#fb9f3a"
             ],
             [
              0.8888888888888888,
              "#fdca26"
             ],
             [
              1,
              "#f0f921"
             ]
            ],
            "type": "histogram2dcontour"
           }
          ],
          "mesh3d": [
           {
            "colorbar": {
             "outlinewidth": 0,
             "ticks": ""
            },
            "type": "mesh3d"
           }
          ],
          "parcoords": [
           {
            "line": {
             "colorbar": {
              "outlinewidth": 0,
              "ticks": ""
             }
            },
            "type": "parcoords"
           }
          ],
          "pie": [
           {
            "automargin": true,
            "type": "pie"
           }
          ],
          "scatter": [
           {
            "fillpattern": {
             "fillmode": "overlay",
             "size": 10,
             "solidity": 0.2
            },
            "type": "scatter"
           }
          ],
          "scatter3d": [
           {
            "line": {
             "colorbar": {
              "outlinewidth": 0,
              "ticks": ""
             }
            },
            "marker": {
             "colorbar": {
              "outlinewidth": 0,
              "ticks": ""
             }
            },
            "type": "scatter3d"
           }
          ],
          "scattercarpet": [
           {
            "marker": {
             "colorbar": {
              "outlinewidth": 0,
              "ticks": ""
             }
            },
            "type": "scattercarpet"
           }
          ],
          "scattergeo": [
           {
            "marker": {
             "colorbar": {
              "outlinewidth": 0,
              "ticks": ""
             }
            },
            "type": "scattergeo"
           }
          ],
          "scattergl": [
           {
            "marker": {
             "colorbar": {
              "outlinewidth": 0,
              "ticks": ""
             }
            },
            "type": "scattergl"
           }
          ],
          "scattermapbox": [
           {
            "marker": {
             "colorbar": {
              "outlinewidth": 0,
              "ticks": ""
             }
            },
            "type": "scattermapbox"
           }
          ],
          "scatterpolar": [
           {
            "marker": {
             "colorbar": {
              "outlinewidth": 0,
              "ticks": ""
             }
            },
            "type": "scatterpolar"
           }
          ],
          "scatterpolargl": [
           {
            "marker": {
             "colorbar": {
              "outlinewidth": 0,
              "ticks": ""
             }
            },
            "type": "scatterpolargl"
           }
          ],
          "scatterternary": [
           {
            "marker": {
             "colorbar": {
              "outlinewidth": 0,
              "ticks": ""
             }
            },
            "type": "scatterternary"
           }
          ],
          "surface": [
           {
            "colorbar": {
             "outlinewidth": 0,
             "ticks": ""
            },
            "colorscale": [
             [
              0,
              "#0d0887"
             ],
             [
              0.1111111111111111,
              "#46039f"
             ],
             [
              0.2222222222222222,
              "#7201a8"
             ],
             [
              0.3333333333333333,
              "#9c179e"
             ],
             [
              0.4444444444444444,
              "#bd3786"
             ],
             [
              0.5555555555555556,
              "#d8576b"
             ],
             [
              0.6666666666666666,
              "#ed7953"
             ],
             [
              0.7777777777777778,
              "#fb9f3a"
             ],
             [
              0.8888888888888888,
              "#fdca26"
             ],
             [
              1,
              "#f0f921"
             ]
            ],
            "type": "surface"
           }
          ],
          "table": [
           {
            "cells": {
             "fill": {
              "color": "#EBF0F8"
             },
             "line": {
              "color": "white"
             }
            },
            "header": {
             "fill": {
              "color": "#C8D4E3"
             },
             "line": {
              "color": "white"
             }
            },
            "type": "table"
           }
          ]
         },
         "layout": {
          "annotationdefaults": {
           "arrowcolor": "#2a3f5f",
           "arrowhead": 0,
           "arrowwidth": 1
          },
          "autotypenumbers": "strict",
          "coloraxis": {
           "colorbar": {
            "outlinewidth": 0,
            "ticks": ""
           }
          },
          "colorscale": {
           "diverging": [
            [
             0,
             "#8e0152"
            ],
            [
             0.1,
             "#c51b7d"
            ],
            [
             0.2,
             "#de77ae"
            ],
            [
             0.3,
             "#f1b6da"
            ],
            [
             0.4,
             "#fde0ef"
            ],
            [
             0.5,
             "#f7f7f7"
            ],
            [
             0.6,
             "#e6f5d0"
            ],
            [
             0.7,
             "#b8e186"
            ],
            [
             0.8,
             "#7fbc41"
            ],
            [
             0.9,
             "#4d9221"
            ],
            [
             1,
             "#276419"
            ]
           ],
           "sequential": [
            [
             0,
             "#0d0887"
            ],
            [
             0.1111111111111111,
             "#46039f"
            ],
            [
             0.2222222222222222,
             "#7201a8"
            ],
            [
             0.3333333333333333,
             "#9c179e"
            ],
            [
             0.4444444444444444,
             "#bd3786"
            ],
            [
             0.5555555555555556,
             "#d8576b"
            ],
            [
             0.6666666666666666,
             "#ed7953"
            ],
            [
             0.7777777777777778,
             "#fb9f3a"
            ],
            [
             0.8888888888888888,
             "#fdca26"
            ],
            [
             1,
             "#f0f921"
            ]
           ],
           "sequentialminus": [
            [
             0,
             "#0d0887"
            ],
            [
             0.1111111111111111,
             "#46039f"
            ],
            [
             0.2222222222222222,
             "#7201a8"
            ],
            [
             0.3333333333333333,
             "#9c179e"
            ],
            [
             0.4444444444444444,
             "#bd3786"
            ],
            [
             0.5555555555555556,
             "#d8576b"
            ],
            [
             0.6666666666666666,
             "#ed7953"
            ],
            [
             0.7777777777777778,
             "#fb9f3a"
            ],
            [
             0.8888888888888888,
             "#fdca26"
            ],
            [
             1,
             "#f0f921"
            ]
           ]
          },
          "colorway": [
           "#636efa",
           "#EF553B",
           "#00cc96",
           "#ab63fa",
           "#FFA15A",
           "#19d3f3",
           "#FF6692",
           "#B6E880",
           "#FF97FF",
           "#FECB52"
          ],
          "font": {
           "color": "#2a3f5f"
          },
          "geo": {
           "bgcolor": "white",
           "lakecolor": "white",
           "landcolor": "#E5ECF6",
           "showlakes": true,
           "showland": true,
           "subunitcolor": "white"
          },
          "hoverlabel": {
           "align": "left"
          },
          "hovermode": "closest",
          "mapbox": {
           "style": "light"
          },
          "paper_bgcolor": "white",
          "plot_bgcolor": "#E5ECF6",
          "polar": {
           "angularaxis": {
            "gridcolor": "white",
            "linecolor": "white",
            "ticks": ""
           },
           "bgcolor": "#E5ECF6",
           "radialaxis": {
            "gridcolor": "white",
            "linecolor": "white",
            "ticks": ""
           }
          },
          "scene": {
           "xaxis": {
            "backgroundcolor": "#E5ECF6",
            "gridcolor": "white",
            "gridwidth": 2,
            "linecolor": "white",
            "showbackground": true,
            "ticks": "",
            "zerolinecolor": "white"
           },
           "yaxis": {
            "backgroundcolor": "#E5ECF6",
            "gridcolor": "white",
            "gridwidth": 2,
            "linecolor": "white",
            "showbackground": true,
            "ticks": "",
            "zerolinecolor": "white"
           },
           "zaxis": {
            "backgroundcolor": "#E5ECF6",
            "gridcolor": "white",
            "gridwidth": 2,
            "linecolor": "white",
            "showbackground": true,
            "ticks": "",
            "zerolinecolor": "white"
           }
          },
          "shapedefaults": {
           "line": {
            "color": "#2a3f5f"
           }
          },
          "ternary": {
           "aaxis": {
            "gridcolor": "white",
            "linecolor": "white",
            "ticks": ""
           },
           "baxis": {
            "gridcolor": "white",
            "linecolor": "white",
            "ticks": ""
           },
           "bgcolor": "#E5ECF6",
           "caxis": {
            "gridcolor": "white",
            "linecolor": "white",
            "ticks": ""
           }
          },
          "title": {
           "x": 0.05
          },
          "xaxis": {
           "automargin": true,
           "gridcolor": "white",
           "linecolor": "white",
           "ticks": "",
           "title": {
            "standoff": 15
           },
           "zerolinecolor": "white",
           "zerolinewidth": 2
          },
          "yaxis": {
           "automargin": true,
           "gridcolor": "white",
           "linecolor": "white",
           "ticks": "",
           "title": {
            "standoff": 15
           },
           "zerolinecolor": "white",
           "zerolinewidth": 2
          }
         }
        },
        "title": {
         "text": "Interactive Plot of Region vs. Winner Price"
        },
        "xaxis": {
         "anchor": "y",
         "categoryarray": [
          "region_1",
          "region_2",
          "region_3",
          "region_4",
          "region_5",
          "region_6",
          "region_7",
          "region_8",
          "region_9",
          "region_10",
          "region_11",
          "region_12",
          "region_13",
          "region_14",
          "region_15",
          "region_16"
         ],
         "categoryorder": "array",
         "domain": [
          0,
          1
         ],
         "title": {
          "text": "Region"
         }
        },
        "yaxis": {
         "anchor": "x",
         "domain": [
          0,
          1
         ],
         "title": {
          "text": "Winner Price"
         }
        }
       }
      }
     },
     "metadata": {},
     "output_type": "display_data"
    }
   ],
   "source": [
    "# Interactive scatter plot using Plotly for Region vs. Winner Price\n",
    "fig = px.scatter(df, x=\"region\", y=\"winner_price\", color=\"region\",\n",
    "                 title=\"Interactive Plot of Region vs. Winner Price\",\n",
    "                 labels={\"region\": \"Region\", \"winner_price\": \"Winner Price\"},\n",
    "                 hover_data=[\"buyer\", \"contract_type\"])\n",
    "\n",
    "fig.update_traces(marker=dict(size=12,\n",
    "                              line=dict(width=2,\n",
    "                                        color='DarkSlateGrey')),\n",
    "                  selector=dict(mode='markers'))\n",
    "fig.show()\n"
   ]
  },
  {
   "cell_type": "code",
   "execution_count": 21,
   "metadata": {},
   "outputs": [
    {
     "data": {
      "application/vnd.plotly.v1+json": {
       "config": {
        "plotlyServerURL": "https://plot.ly"
       },
       "data": [
        {
         "customdata": [
          [
           "buyer_1",
           "regional"
          ]
         ],
         "hovertemplate": "Region=%{x}<br>Total Quantity=%{y}<br>buyer=%{customdata[0]}<br>contract_type=%{customdata[1]}<extra></extra>",
         "legendgroup": "region_1",
         "marker": {
          "color": "#636efa",
          "line": {
           "color": "DarkSlateGrey",
           "width": 2
          },
          "size": 12,
          "symbol": "circle"
         },
         "mode": "markers",
         "name": "region_1",
         "orientation": "v",
         "showlegend": true,
         "type": "scatter",
         "x": [
          "region_1"
         ],
         "xaxis": "x",
         "y": [
          32966.51108466745
         ],
         "yaxis": "y"
        },
        {
         "customdata": [
          [
           "buyer_2",
           "wide area"
          ],
          [
           "buyer_2",
           "regional"
          ],
          [
           "buyer_2",
           "regional"
          ]
         ],
         "hovertemplate": "Region=%{x}<br>Total Quantity=%{y}<br>buyer=%{customdata[0]}<br>contract_type=%{customdata[1]}<extra></extra>",
         "legendgroup": "region_2",
         "marker": {
          "color": "#EF553B",
          "line": {
           "color": "DarkSlateGrey",
           "width": 2
          },
          "size": 12,
          "symbol": "circle"
         },
         "mode": "markers",
         "name": "region_2",
         "orientation": "v",
         "showlegend": true,
         "type": "scatter",
         "x": [
          "region_2",
          "region_2",
          "region_2"
         ],
         "xaxis": "x",
         "y": [
          220249.442660143,
          1018263.1132661788,
          1179786.6436388672
         ],
         "yaxis": "y"
        },
        {
         "customdata": [
          [
           "buyer_3",
           "regional"
          ],
          [
           "buyer_3",
           "regional"
          ]
         ],
         "hovertemplate": "Region=%{x}<br>Total Quantity=%{y}<br>buyer=%{customdata[0]}<br>contract_type=%{customdata[1]}<extra></extra>",
         "legendgroup": "region_3",
         "marker": {
          "color": "#00cc96",
          "line": {
           "color": "DarkSlateGrey",
           "width": 2
          },
          "size": 12,
          "symbol": "circle"
         },
         "mode": "markers",
         "name": "region_3",
         "orientation": "v",
         "showlegend": true,
         "type": "scatter",
         "x": [
          "region_3",
          "region_3"
         ],
         "xaxis": "x",
         "y": [
          2680.639219211316,
          63904.29401018482
         ],
         "yaxis": "y"
        },
        {
         "customdata": [
          [
           "buyer_4",
           "regional"
          ],
          [
           "buyer_14",
           "regional"
          ]
         ],
         "hovertemplate": "Region=%{x}<br>Total Quantity=%{y}<br>buyer=%{customdata[0]}<br>contract_type=%{customdata[1]}<extra></extra>",
         "legendgroup": "region_4",
         "marker": {
          "color": "#ab63fa",
          "line": {
           "color": "DarkSlateGrey",
           "width": 2
          },
          "size": 12,
          "symbol": "circle"
         },
         "mode": "markers",
         "name": "region_4",
         "orientation": "v",
         "showlegend": true,
         "type": "scatter",
         "x": [
          "region_4",
          "region_4"
         ],
         "xaxis": "x",
         "y": [
          5900.676493613123,
          58032.68174512516
         ],
         "yaxis": "y"
        },
        {
         "customdata": [
          [
           "buyer_5",
           "regional"
          ],
          [
           "buyer_5",
           "multi-region"
          ],
          [
           "buyer_16",
           "multi-region"
          ]
         ],
         "hovertemplate": "Region=%{x}<br>Total Quantity=%{y}<br>buyer=%{customdata[0]}<br>contract_type=%{customdata[1]}<extra></extra>",
         "legendgroup": "region_5",
         "marker": {
          "color": "#FFA15A",
          "line": {
           "color": "DarkSlateGrey",
           "width": 2
          },
          "size": 12,
          "symbol": "circle"
         },
         "mode": "markers",
         "name": "region_5",
         "orientation": "v",
         "showlegend": true,
         "type": "scatter",
         "x": [
          "region_5",
          "region_5",
          "region_5"
         ],
         "xaxis": "x",
         "y": [
          3289.223409578722,
          66527.92798335991,
          51752.91832382516
         ],
         "yaxis": "y"
        },
        {
         "customdata": [
          [
           "buyer_6",
           "regional"
          ],
          [
           "buyer_19",
           "regional"
          ],
          [
           "buyer_19",
           "regional"
          ]
         ],
         "hovertemplate": "Region=%{x}<br>Total Quantity=%{y}<br>buyer=%{customdata[0]}<br>contract_type=%{customdata[1]}<extra></extra>",
         "legendgroup": "region_6",
         "marker": {
          "color": "#19d3f3",
          "line": {
           "color": "DarkSlateGrey",
           "width": 2
          },
          "size": 12,
          "symbol": "circle"
         },
         "mode": "markers",
         "name": "region_6",
         "orientation": "v",
         "showlegend": true,
         "type": "scatter",
         "x": [
          "region_6",
          "region_6",
          "region_6"
         ],
         "xaxis": "x",
         "y": [
          9026.168470095074,
          6263.290169290181,
          5758.720772735226
         ],
         "yaxis": "y"
        },
        {
         "customdata": [
          [
           "buyer_7",
           "regional"
          ],
          [
           "buyer_7",
           "regional"
          ]
         ],
         "hovertemplate": "Region=%{x}<br>Total Quantity=%{y}<br>buyer=%{customdata[0]}<br>contract_type=%{customdata[1]}<extra></extra>",
         "legendgroup": "region_7",
         "marker": {
          "color": "#FF6692",
          "line": {
           "color": "DarkSlateGrey",
           "width": 2
          },
          "size": 12,
          "symbol": "circle"
         },
         "mode": "markers",
         "name": "region_7",
         "orientation": "v",
         "showlegend": true,
         "type": "scatter",
         "x": [
          "region_7",
          "region_7"
         ],
         "xaxis": "x",
         "y": [
          17282.31383177983,
          17107.897624425837
         ],
         "yaxis": "y"
        },
        {
         "customdata": [
          [
           "buyer_8",
           "regional"
          ],
          [
           "buyer_8",
           "multi-region"
          ],
          [
           "buyer_8",
           "regional"
          ]
         ],
         "hovertemplate": "Region=%{x}<br>Total Quantity=%{y}<br>buyer=%{customdata[0]}<br>contract_type=%{customdata[1]}<extra></extra>",
         "legendgroup": "region_8",
         "marker": {
          "color": "#B6E880",
          "line": {
           "color": "DarkSlateGrey",
           "width": 2
          },
          "size": 12,
          "symbol": "circle"
         },
         "mode": "markers",
         "name": "region_8",
         "orientation": "v",
         "showlegend": true,
         "type": "scatter",
         "x": [
          "region_8",
          "region_8",
          "region_8"
         ],
         "xaxis": "x",
         "y": [
          31951.791632038767,
          36740.26824673762,
          109912.35124851111
         ],
         "yaxis": "y"
        },
        {
         "customdata": [
          [
           "buyer_9",
           "regional"
          ],
          [
           "buyer_15",
           "multi-region"
          ]
         ],
         "hovertemplate": "Region=%{x}<br>Total Quantity=%{y}<br>buyer=%{customdata[0]}<br>contract_type=%{customdata[1]}<extra></extra>",
         "legendgroup": "region_9",
         "marker": {
          "color": "#FF97FF",
          "line": {
           "color": "DarkSlateGrey",
           "width": 2
          },
          "size": 12,
          "symbol": "circle"
         },
         "mode": "markers",
         "name": "region_9",
         "orientation": "v",
         "showlegend": true,
         "type": "scatter",
         "x": [
          "region_9",
          "region_9"
         ],
         "xaxis": "x",
         "y": [
          35013.91853894217,
          65931.00077991649
         ],
         "yaxis": "y"
        },
        {
         "customdata": [
          [
           "buyer_10",
           "regional"
          ]
         ],
         "hovertemplate": "Region=%{x}<br>Total Quantity=%{y}<br>buyer=%{customdata[0]}<br>contract_type=%{customdata[1]}<extra></extra>",
         "legendgroup": "region_10",
         "marker": {
          "color": "#FECB52",
          "line": {
           "color": "DarkSlateGrey",
           "width": 2
          },
          "size": 12,
          "symbol": "circle"
         },
         "mode": "markers",
         "name": "region_10",
         "orientation": "v",
         "showlegend": true,
         "type": "scatter",
         "x": [
          "region_10"
         ],
         "xaxis": "x",
         "y": [
          10766.58581264971
         ],
         "yaxis": "y"
        },
        {
         "customdata": [
          [
           "buyer_11",
           "regional"
          ],
          [
           "buyer_11",
           "regional"
          ],
          [
           "buyer_11",
           "regional"
          ]
         ],
         "hovertemplate": "Region=%{x}<br>Total Quantity=%{y}<br>buyer=%{customdata[0]}<br>contract_type=%{customdata[1]}<extra></extra>",
         "legendgroup": "region_11",
         "marker": {
          "color": "#636efa",
          "line": {
           "color": "DarkSlateGrey",
           "width": 2
          },
          "size": 12,
          "symbol": "circle"
         },
         "mode": "markers",
         "name": "region_11",
         "orientation": "v",
         "showlegend": true,
         "type": "scatter",
         "x": [
          "region_11",
          "region_11",
          "region_11"
         ],
         "xaxis": "x",
         "y": [
          8589.313285066892,
          8426.46769286538,
          8833.156206989086
         ],
         "yaxis": "y"
        },
        {
         "customdata": [
          [
           "buyer_12",
           "multi-region"
          ],
          [
           "buyer_12",
           "regional"
          ]
         ],
         "hovertemplate": "Region=%{x}<br>Total Quantity=%{y}<br>buyer=%{customdata[0]}<br>contract_type=%{customdata[1]}<extra></extra>",
         "legendgroup": "region_12",
         "marker": {
          "color": "#EF553B",
          "line": {
           "color": "DarkSlateGrey",
           "width": 2
          },
          "size": 12,
          "symbol": "circle"
         },
         "mode": "markers",
         "name": "region_12",
         "orientation": "v",
         "showlegend": true,
         "type": "scatter",
         "x": [
          "region_12",
          "region_12"
         ],
         "xaxis": "x",
         "y": [
          302560.0860823963,
          160968.94435571626
         ],
         "yaxis": "y"
        },
        {
         "customdata": [
          [
           "buyer_13",
           "regional"
          ]
         ],
         "hovertemplate": "Region=%{x}<br>Total Quantity=%{y}<br>buyer=%{customdata[0]}<br>contract_type=%{customdata[1]}<extra></extra>",
         "legendgroup": "region_13",
         "marker": {
          "color": "#00cc96",
          "line": {
           "color": "DarkSlateGrey",
           "width": 2
          },
          "size": 12,
          "symbol": "circle"
         },
         "mode": "markers",
         "name": "region_13",
         "orientation": "v",
         "showlegend": true,
         "type": "scatter",
         "x": [
          "region_13"
         ],
         "xaxis": "x",
         "y": [
          29731.30548432009
         ],
         "yaxis": "y"
        },
        {
         "customdata": [
          [
           "buyer_17",
           "regional"
          ]
         ],
         "hovertemplate": "Region=%{x}<br>Total Quantity=%{y}<br>buyer=%{customdata[0]}<br>contract_type=%{customdata[1]}<extra></extra>",
         "legendgroup": "region_14",
         "marker": {
          "color": "#ab63fa",
          "line": {
           "color": "DarkSlateGrey",
           "width": 2
          },
          "size": 12,
          "symbol": "circle"
         },
         "mode": "markers",
         "name": "region_14",
         "orientation": "v",
         "showlegend": true,
         "type": "scatter",
         "x": [
          "region_14"
         ],
         "xaxis": "x",
         "y": [
          95007.35275064212
         ],
         "yaxis": "y"
        },
        {
         "customdata": [
          [
           "buyer_18",
           "multi-region"
          ]
         ],
         "hovertemplate": "Region=%{x}<br>Total Quantity=%{y}<br>buyer=%{customdata[0]}<br>contract_type=%{customdata[1]}<extra></extra>",
         "legendgroup": "region_15",
         "marker": {
          "color": "#FFA15A",
          "line": {
           "color": "DarkSlateGrey",
           "width": 2
          },
          "size": 12,
          "symbol": "circle"
         },
         "mode": "markers",
         "name": "region_15",
         "orientation": "v",
         "showlegend": true,
         "type": "scatter",
         "x": [
          "region_15"
         ],
         "xaxis": "x",
         "y": [
          56479.37121315684
         ],
         "yaxis": "y"
        },
        {
         "customdata": [
          [
           "buyer_16",
           "regional"
          ]
         ],
         "hovertemplate": "Region=%{x}<br>Total Quantity=%{y}<br>buyer=%{customdata[0]}<br>contract_type=%{customdata[1]}<extra></extra>",
         "legendgroup": "region_16",
         "marker": {
          "color": "#19d3f3",
          "line": {
           "color": "DarkSlateGrey",
           "width": 2
          },
          "size": 12,
          "symbol": "circle"
         },
         "mode": "markers",
         "name": "region_16",
         "orientation": "v",
         "showlegend": true,
         "type": "scatter",
         "x": [
          "region_16"
         ],
         "xaxis": "x",
         "y": [
          30548.844410945752
         ],
         "yaxis": "y"
        }
       ],
       "layout": {
        "legend": {
         "title": {
          "text": "Region"
         },
         "tracegroupgap": 0
        },
        "template": {
         "data": {
          "bar": [
           {
            "error_x": {
             "color": "#2a3f5f"
            },
            "error_y": {
             "color": "#2a3f5f"
            },
            "marker": {
             "line": {
              "color": "#E5ECF6",
              "width": 0.5
             },
             "pattern": {
              "fillmode": "overlay",
              "size": 10,
              "solidity": 0.2
             }
            },
            "type": "bar"
           }
          ],
          "barpolar": [
           {
            "marker": {
             "line": {
              "color": "#E5ECF6",
              "width": 0.5
             },
             "pattern": {
              "fillmode": "overlay",
              "size": 10,
              "solidity": 0.2
             }
            },
            "type": "barpolar"
           }
          ],
          "carpet": [
           {
            "aaxis": {
             "endlinecolor": "#2a3f5f",
             "gridcolor": "white",
             "linecolor": "white",
             "minorgridcolor": "white",
             "startlinecolor": "#2a3f5f"
            },
            "baxis": {
             "endlinecolor": "#2a3f5f",
             "gridcolor": "white",
             "linecolor": "white",
             "minorgridcolor": "white",
             "startlinecolor": "#2a3f5f"
            },
            "type": "carpet"
           }
          ],
          "choropleth": [
           {
            "colorbar": {
             "outlinewidth": 0,
             "ticks": ""
            },
            "type": "choropleth"
           }
          ],
          "contour": [
           {
            "colorbar": {
             "outlinewidth": 0,
             "ticks": ""
            },
            "colorscale": [
             [
              0,
              "#0d0887"
             ],
             [
              0.1111111111111111,
              "#46039f"
             ],
             [
              0.2222222222222222,
              "#7201a8"
             ],
             [
              0.3333333333333333,
              "#9c179e"
             ],
             [
              0.4444444444444444,
              "#bd3786"
             ],
             [
              0.5555555555555556,
              "#d8576b"
             ],
             [
              0.6666666666666666,
              "#ed7953"
             ],
             [
              0.7777777777777778,
              "#fb9f3a"
             ],
             [
              0.8888888888888888,
              "#fdca26"
             ],
             [
              1,
              "#f0f921"
             ]
            ],
            "type": "contour"
           }
          ],
          "contourcarpet": [
           {
            "colorbar": {
             "outlinewidth": 0,
             "ticks": ""
            },
            "type": "contourcarpet"
           }
          ],
          "heatmap": [
           {
            "colorbar": {
             "outlinewidth": 0,
             "ticks": ""
            },
            "colorscale": [
             [
              0,
              "#0d0887"
             ],
             [
              0.1111111111111111,
              "#46039f"
             ],
             [
              0.2222222222222222,
              "#7201a8"
             ],
             [
              0.3333333333333333,
              "#9c179e"
             ],
             [
              0.4444444444444444,
              "#bd3786"
             ],
             [
              0.5555555555555556,
              "#d8576b"
             ],
             [
              0.6666666666666666,
              "#ed7953"
             ],
             [
              0.7777777777777778,
              "#fb9f3a"
             ],
             [
              0.8888888888888888,
              "#fdca26"
             ],
             [
              1,
              "#f0f921"
             ]
            ],
            "type": "heatmap"
           }
          ],
          "heatmapgl": [
           {
            "colorbar": {
             "outlinewidth": 0,
             "ticks": ""
            },
            "colorscale": [
             [
              0,
              "#0d0887"
             ],
             [
              0.1111111111111111,
              "#46039f"
             ],
             [
              0.2222222222222222,
              "#7201a8"
             ],
             [
              0.3333333333333333,
              "#9c179e"
             ],
             [
              0.4444444444444444,
              "#bd3786"
             ],
             [
              0.5555555555555556,
              "#d8576b"
             ],
             [
              0.6666666666666666,
              "#ed7953"
             ],
             [
              0.7777777777777778,
              "#fb9f3a"
             ],
             [
              0.8888888888888888,
              "#fdca26"
             ],
             [
              1,
              "#f0f921"
             ]
            ],
            "type": "heatmapgl"
           }
          ],
          "histogram": [
           {
            "marker": {
             "pattern": {
              "fillmode": "overlay",
              "size": 10,
              "solidity": 0.2
             }
            },
            "type": "histogram"
           }
          ],
          "histogram2d": [
           {
            "colorbar": {
             "outlinewidth": 0,
             "ticks": ""
            },
            "colorscale": [
             [
              0,
              "#0d0887"
             ],
             [
              0.1111111111111111,
              "#46039f"
             ],
             [
              0.2222222222222222,
              "#7201a8"
             ],
             [
              0.3333333333333333,
              "#9c179e"
             ],
             [
              0.4444444444444444,
              "#bd3786"
             ],
             [
              0.5555555555555556,
              "#d8576b"
             ],
             [
              0.6666666666666666,
              "#ed7953"
             ],
             [
              0.7777777777777778,
              "#fb9f3a"
             ],
             [
              0.8888888888888888,
              "#fdca26"
             ],
             [
              1,
              "#f0f921"
             ]
            ],
            "type": "histogram2d"
           }
          ],
          "histogram2dcontour": [
           {
            "colorbar": {
             "outlinewidth": 0,
             "ticks": ""
            },
            "colorscale": [
             [
              0,
              "#0d0887"
             ],
             [
              0.1111111111111111,
              "#46039f"
             ],
             [
              0.2222222222222222,
              "#7201a8"
             ],
             [
              0.3333333333333333,
              "#9c179e"
             ],
             [
              0.4444444444444444,
              "#bd3786"
             ],
             [
              0.5555555555555556,
              "#d8576b"
             ],
             [
              0.6666666666666666,
              "#ed7953"
             ],
             [
              0.7777777777777778,
              "#fb9f3a"
             ],
             [
              0.8888888888888888,
              "#fdca26"
             ],
             [
              1,
              "#f0f921"
             ]
            ],
            "type": "histogram2dcontour"
           }
          ],
          "mesh3d": [
           {
            "colorbar": {
             "outlinewidth": 0,
             "ticks": ""
            },
            "type": "mesh3d"
           }
          ],
          "parcoords": [
           {
            "line": {
             "colorbar": {
              "outlinewidth": 0,
              "ticks": ""
             }
            },
            "type": "parcoords"
           }
          ],
          "pie": [
           {
            "automargin": true,
            "type": "pie"
           }
          ],
          "scatter": [
           {
            "fillpattern": {
             "fillmode": "overlay",
             "size": 10,
             "solidity": 0.2
            },
            "type": "scatter"
           }
          ],
          "scatter3d": [
           {
            "line": {
             "colorbar": {
              "outlinewidth": 0,
              "ticks": ""
             }
            },
            "marker": {
             "colorbar": {
              "outlinewidth": 0,
              "ticks": ""
             }
            },
            "type": "scatter3d"
           }
          ],
          "scattercarpet": [
           {
            "marker": {
             "colorbar": {
              "outlinewidth": 0,
              "ticks": ""
             }
            },
            "type": "scattercarpet"
           }
          ],
          "scattergeo": [
           {
            "marker": {
             "colorbar": {
              "outlinewidth": 0,
              "ticks": ""
             }
            },
            "type": "scattergeo"
           }
          ],
          "scattergl": [
           {
            "marker": {
             "colorbar": {
              "outlinewidth": 0,
              "ticks": ""
             }
            },
            "type": "scattergl"
           }
          ],
          "scattermapbox": [
           {
            "marker": {
             "colorbar": {
              "outlinewidth": 0,
              "ticks": ""
             }
            },
            "type": "scattermapbox"
           }
          ],
          "scatterpolar": [
           {
            "marker": {
             "colorbar": {
              "outlinewidth": 0,
              "ticks": ""
             }
            },
            "type": "scatterpolar"
           }
          ],
          "scatterpolargl": [
           {
            "marker": {
             "colorbar": {
              "outlinewidth": 0,
              "ticks": ""
             }
            },
            "type": "scatterpolargl"
           }
          ],
          "scatterternary": [
           {
            "marker": {
             "colorbar": {
              "outlinewidth": 0,
              "ticks": ""
             }
            },
            "type": "scatterternary"
           }
          ],
          "surface": [
           {
            "colorbar": {
             "outlinewidth": 0,
             "ticks": ""
            },
            "colorscale": [
             [
              0,
              "#0d0887"
             ],
             [
              0.1111111111111111,
              "#46039f"
             ],
             [
              0.2222222222222222,
              "#7201a8"
             ],
             [
              0.3333333333333333,
              "#9c179e"
             ],
             [
              0.4444444444444444,
              "#bd3786"
             ],
             [
              0.5555555555555556,
              "#d8576b"
             ],
             [
              0.6666666666666666,
              "#ed7953"
             ],
             [
              0.7777777777777778,
              "#fb9f3a"
             ],
             [
              0.8888888888888888,
              "#fdca26"
             ],
             [
              1,
              "#f0f921"
             ]
            ],
            "type": "surface"
           }
          ],
          "table": [
           {
            "cells": {
             "fill": {
              "color": "#EBF0F8"
             },
             "line": {
              "color": "white"
             }
            },
            "header": {
             "fill": {
              "color": "#C8D4E3"
             },
             "line": {
              "color": "white"
             }
            },
            "type": "table"
           }
          ]
         },
         "layout": {
          "annotationdefaults": {
           "arrowcolor": "#2a3f5f",
           "arrowhead": 0,
           "arrowwidth": 1
          },
          "autotypenumbers": "strict",
          "coloraxis": {
           "colorbar": {
            "outlinewidth": 0,
            "ticks": ""
           }
          },
          "colorscale": {
           "diverging": [
            [
             0,
             "#8e0152"
            ],
            [
             0.1,
             "#c51b7d"
            ],
            [
             0.2,
             "#de77ae"
            ],
            [
             0.3,
             "#f1b6da"
            ],
            [
             0.4,
             "#fde0ef"
            ],
            [
             0.5,
             "#f7f7f7"
            ],
            [
             0.6,
             "#e6f5d0"
            ],
            [
             0.7,
             "#b8e186"
            ],
            [
             0.8,
             "#7fbc41"
            ],
            [
             0.9,
             "#4d9221"
            ],
            [
             1,
             "#276419"
            ]
           ],
           "sequential": [
            [
             0,
             "#0d0887"
            ],
            [
             0.1111111111111111,
             "#46039f"
            ],
            [
             0.2222222222222222,
             "#7201a8"
            ],
            [
             0.3333333333333333,
             "#9c179e"
            ],
            [
             0.4444444444444444,
             "#bd3786"
            ],
            [
             0.5555555555555556,
             "#d8576b"
            ],
            [
             0.6666666666666666,
             "#ed7953"
            ],
            [
             0.7777777777777778,
             "#fb9f3a"
            ],
            [
             0.8888888888888888,
             "#fdca26"
            ],
            [
             1,
             "#f0f921"
            ]
           ],
           "sequentialminus": [
            [
             0,
             "#0d0887"
            ],
            [
             0.1111111111111111,
             "#46039f"
            ],
            [
             0.2222222222222222,
             "#7201a8"
            ],
            [
             0.3333333333333333,
             "#9c179e"
            ],
            [
             0.4444444444444444,
             "#bd3786"
            ],
            [
             0.5555555555555556,
             "#d8576b"
            ],
            [
             0.6666666666666666,
             "#ed7953"
            ],
            [
             0.7777777777777778,
             "#fb9f3a"
            ],
            [
             0.8888888888888888,
             "#fdca26"
            ],
            [
             1,
             "#f0f921"
            ]
           ]
          },
          "colorway": [
           "#636efa",
           "#EF553B",
           "#00cc96",
           "#ab63fa",
           "#FFA15A",
           "#19d3f3",
           "#FF6692",
           "#B6E880",
           "#FF97FF",
           "#FECB52"
          ],
          "font": {
           "color": "#2a3f5f"
          },
          "geo": {
           "bgcolor": "white",
           "lakecolor": "white",
           "landcolor": "#E5ECF6",
           "showlakes": true,
           "showland": true,
           "subunitcolor": "white"
          },
          "hoverlabel": {
           "align": "left"
          },
          "hovermode": "closest",
          "mapbox": {
           "style": "light"
          },
          "paper_bgcolor": "white",
          "plot_bgcolor": "#E5ECF6",
          "polar": {
           "angularaxis": {
            "gridcolor": "white",
            "linecolor": "white",
            "ticks": ""
           },
           "bgcolor": "#E5ECF6",
           "radialaxis": {
            "gridcolor": "white",
            "linecolor": "white",
            "ticks": ""
           }
          },
          "scene": {
           "xaxis": {
            "backgroundcolor": "#E5ECF6",
            "gridcolor": "white",
            "gridwidth": 2,
            "linecolor": "white",
            "showbackground": true,
            "ticks": "",
            "zerolinecolor": "white"
           },
           "yaxis": {
            "backgroundcolor": "#E5ECF6",
            "gridcolor": "white",
            "gridwidth": 2,
            "linecolor": "white",
            "showbackground": true,
            "ticks": "",
            "zerolinecolor": "white"
           },
           "zaxis": {
            "backgroundcolor": "#E5ECF6",
            "gridcolor": "white",
            "gridwidth": 2,
            "linecolor": "white",
            "showbackground": true,
            "ticks": "",
            "zerolinecolor": "white"
           }
          },
          "shapedefaults": {
           "line": {
            "color": "#2a3f5f"
           }
          },
          "ternary": {
           "aaxis": {
            "gridcolor": "white",
            "linecolor": "white",
            "ticks": ""
           },
           "baxis": {
            "gridcolor": "white",
            "linecolor": "white",
            "ticks": ""
           },
           "bgcolor": "#E5ECF6",
           "caxis": {
            "gridcolor": "white",
            "linecolor": "white",
            "ticks": ""
           }
          },
          "title": {
           "x": 0.05
          },
          "xaxis": {
           "automargin": true,
           "gridcolor": "white",
           "linecolor": "white",
           "ticks": "",
           "title": {
            "standoff": 15
           },
           "zerolinecolor": "white",
           "zerolinewidth": 2
          },
          "yaxis": {
           "automargin": true,
           "gridcolor": "white",
           "linecolor": "white",
           "ticks": "",
           "title": {
            "standoff": 15
           },
           "zerolinecolor": "white",
           "zerolinewidth": 2
          }
         }
        },
        "title": {
         "text": "Interactive Plot of Region vs. Winner Price"
        },
        "xaxis": {
         "anchor": "y",
         "categoryarray": [
          "region_1",
          "region_2",
          "region_3",
          "region_4",
          "region_5",
          "region_6",
          "region_7",
          "region_8",
          "region_9",
          "region_10",
          "region_11",
          "region_12",
          "region_13",
          "region_14",
          "region_15",
          "region_16"
         ],
         "categoryorder": "array",
         "domain": [
          0,
          1
         ],
         "title": {
          "text": "Region"
         }
        },
        "yaxis": {
         "anchor": "x",
         "domain": [
          0,
          1
         ],
         "title": {
          "text": "Total Quantity"
         }
        }
       }
      }
     },
     "metadata": {},
     "output_type": "display_data"
    }
   ],
   "source": [
    "# Interactive scatter plot using Plotly for Region vs. Total Quantity\n",
    "fig = px.scatter(df, x=\"region\", y=\"quantity_total\", color=\"region\",\n",
    "                 title=\"Interactive Plot of Region vs. Winner Price\",\n",
    "                 labels={\"region\": \"Region\", \"quantity_total\": \"Total Quantity\"},\n",
    "                 hover_data=[\"buyer\", \"contract_type\"])\n",
    "\n",
    "fig.update_traces(marker=dict(size=12,\n",
    "                              line=dict(width=2,\n",
    "                                        color='DarkSlateGrey')),\n",
    "                  selector=dict(mode='markers'))\n",
    "fig.show()"
   ]
  },
  {
   "cell_type": "markdown",
   "metadata": {},
   "source": [
    "**Handling Outliers**"
   ]
  },
  {
   "cell_type": "code",
   "execution_count": 22,
   "metadata": {},
   "outputs": [
    {
     "data": {
      "image/png": "[encoded data removed]",
      "text/plain": [
       "<Figure size 1800x1200 with 5 Axes>"
      ]
     },
     "metadata": {},
     "output_type": "display_data"
    }
   ],
   "source": [
    "# Capping\n",
    "upper_limit = df['winner_price'].quantile(0.95)\n",
    "lower_limit = df['winner_price'].quantile(0.05)\n",
    "df['winner_price_capped'] = df['winner_price'].clip(lower=lower_limit, upper=upper_limit)\n",
    "\n",
    "# Log Transformation\n",
    "df['winner_price_log'] = np.log1p(df['winner_price'])\n",
    "\n",
    "# Robust Scaling\n",
    "scaler = RobustScaler()\n",
    "df['winner_price_scaled'] = scaler.fit_transform(df[['winner_price']].values)\n",
    "\n",
    "# Box-Cox Transformation\n",
    "shifted_data = df['winner_price'] - df['winner_price'].min() + 1  # ensure all values are positive\n",
    "df['winner_price_boxcox'], _ = boxcox(shifted_data)\n",
    "\n",
    "# Plotting the transformations\n",
    "plt.figure(figsize=(18, 12))\n",
    "\n",
    "# Original Data\n",
    "plt.subplot(3, 2, 1)\n",
    "sns.histplot(df['winner_price'], kde=True)\n",
    "plt.title('Original Winner Price')\n",
    "\n",
    "# Capped Data\n",
    "plt.subplot(3, 2, 2)\n",
    "sns.histplot(df['winner_price_capped'], kde=True)\n",
    "plt.title('Capped Winner Price')\n",
    "\n",
    "# Log Transformed Data\n",
    "plt.subplot(3, 2, 3)\n",
    "sns.histplot(df['winner_price_log'], kde=True)\n",
    "plt.title('Log Transformed Winner Price')\n",
    "\n",
    "# Robust Scaled Data\n",
    "plt.subplot(3, 2, 4)\n",
    "sns.histplot(df['winner_price_scaled'], kde=True)\n",
    "plt.title('Robust Scaled Winner Price')\n",
    "\n",
    "# Box-Cox Transformed Data\n",
    "plt.subplot(3, 2, 5)\n",
    "sns.histplot(df['winner_price_boxcox'], kde=True)\n",
    "plt.title('Box-Cox Transformed Winner Price')\n",
    "\n",
    "plt.tight_layout()\n",
    "plt.show()"
   ]
  },
  {
   "cell_type": "markdown",
   "metadata": {},
   "source": [
    "**Recommended Approach Based on Visualization**\n",
    "\n",
    "  - From the visual analysis:\n",
    "\n",
    "\n",
    "    - **If Linear Models are to be Used**: The Box-Cox Transformation seems to provide the most normal-like distribution, which could enhance the performance of algorithms that assume normality.\n",
    "\n",
    "    - **For Robustness to Outliers in General Models**: The Robust Scaling method maintains the overall distribution shape while reducing the influence of outliers, making it suitable for a broad range of models.\n",
    "\n",
    "    - **For Minimizing Data Alteration**: Capping might be preferable if retaining the original data structure as much as possible is important, especially when extreme values are still meaningful within the business context.\n",
    "    \n",
    "    \n",
    "  - Given these insights, the choice between Box-Cox transformation, robust scaling, or capping should be guided by the specific requirements of the machine learning models you plan to use and the statistical properties you wish to enhance or preserve in the dataset. Each method has its strengths, and the final selection can depend on further model testing and validation."
   ]
  }
 ],
 "metadata": {
  "kernelspec": {
   "display_name": "Python 3",
   "language": "python",
   "name": "python3"
  },
  "language_info": {
   "codemirror_mode": {
    "name": "ipython",
    "version": 3
   },
   "file_extension": ".py",
   "mimetype": "text/x-python",
   "name": "python",
   "nbconvert_exporter": "python",
   "pygments_lexer": "ipython3",
   "version": "3.11.9"
  }
 },
 "nbformat": 4,
 "nbformat_minor": 2
}
